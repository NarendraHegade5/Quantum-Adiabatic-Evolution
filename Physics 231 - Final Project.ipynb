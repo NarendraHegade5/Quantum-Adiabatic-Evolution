{
 "cells": [
  {
   "cell_type": "markdown",
   "metadata": {},
   "source": [
    "# Physics 231: Final Project\n",
    "## Adiabatic Evolution of the Anharmonic Oscillator"
   ]
  },
  {
   "cell_type": "code",
   "execution_count": 1,
   "metadata": {},
   "outputs": [],
   "source": [
    "import numpy as np"
   ]
  },
  {
   "cell_type": "markdown",
   "metadata": {},
   "source": [
    "### Defining the Ladder Operators in the Harmonic Oscillator Basis"
   ]
  },
  {
   "cell_type": "code",
   "execution_count": 2,
   "metadata": {},
   "outputs": [],
   "source": [
    "def op_a(n):\n",
    "    mat = np.zeros((n, n))\n",
    "    for i in range(n-1):\n",
    "        mat[i][i+1] = np.sqrt(i+1)\n",
    "    return mat\n",
    "\n",
    "def op_adag(n):\n",
    "    mat = np.zeros((n, n))\n",
    "    for i in range(n-1):\n",
    "        mat[i+1][i] = np.sqrt(i+1)\n",
    "    return mat\n",
    "\n",
    "def op_n(n):\n",
    "    a = op_a(n)\n",
    "    adag = op_adag(n)\n",
    "    mat = np.dot(adag,a)\n",
    "    return mat"
   ]
  },
  {
   "cell_type": "code",
   "execution_count": 3,
   "metadata": {},
   "outputs": [
    {
     "name": "stdout",
     "output_type": "stream",
     "text": [
      "[[ 1.  0.  0.  0.  0.]\n",
      " [ 0.  1.  0.  0.  0.]\n",
      " [ 0.  0.  1.  0.  0.]\n",
      " [ 0.  0.  0.  1.  0.]\n",
      " [ 0.  0.  0.  0. -4.]]\n",
      "[[0. 0. 0. 0. 0.]\n",
      " [0. 1. 0. 0. 0.]\n",
      " [0. 0. 2. 0. 0.]\n",
      " [0. 0. 0. 3. 0.]\n",
      " [0. 0. 0. 0. 4.]]\n"
     ]
    }
   ],
   "source": [
    "a = op_a(5)\n",
    "b = op_adag(5)\n",
    "print(np.dot(a,b)-np.dot(b,a)) #expect [a,adag] = 1\n",
    "print(op_n(5))"
   ]
  },
  {
   "cell_type": "markdown",
   "metadata": {},
   "source": [
    "__Note:__ The error in the last row is a result of the fact that the originally infinite Hilbert Space has been truncated."
   ]
  },
  {
   "cell_type": "markdown",
   "metadata": {},
   "source": [
    "### Defining the x,p in terms of Dagger Operators"
   ]
  },
  {
   "cell_type": "markdown",
   "metadata": {},
   "source": [
    "$$x = \\sqrt{\\frac{\\hbar}{2m\\omega}}(a+a^+)$$\n",
    "\n",
    "$$p = -i\\sqrt{\\frac{m\\omega\\hbar}{2}}(a-a^+)$$"
   ]
  },
  {
   "cell_type": "markdown",
   "metadata": {},
   "source": [
    "#### We will be setting $\\hbar = m = \\omega = 1$"
   ]
  },
  {
   "cell_type": "code",
   "execution_count": 4,
   "metadata": {},
   "outputs": [],
   "source": [
    "def op_x(n):\n",
    "    mat = np.sqrt(1/2)*(op_a(n) + op_adag(n))\n",
    "    return mat\n",
    "\n",
    "def op_p(n):\n",
    "    mat = (-1j)*np.sqrt(1/2)*(op_a(n) - op_adag(n))\n",
    "    return mat"
   ]
  },
  {
   "cell_type": "code",
   "execution_count": 5,
   "metadata": {},
   "outputs": [
    {
     "name": "stdout",
     "output_type": "stream",
     "text": [
      "[[ 1.  0.  0.  0.  0.]\n",
      " [ 0.  1.  0.  0.  0.]\n",
      " [ 0.  0.  1.  0.  0.]\n",
      " [ 0.  0.  0.  1.  0.]\n",
      " [ 0.  0.  0.  0. -4.]]\n"
     ]
    }
   ],
   "source": [
    "x = op_x(5)\n",
    "p = op_p(5)\n",
    "print(np.imag(np.dot(x,p)-np.dot(p,x))) # expect [x,p] = ihbar"
   ]
  },
  {
   "cell_type": "markdown",
   "metadata": {},
   "source": [
    "#### Test: Is $x^2$ the same from definition of x and dagger operators"
   ]
  },
  {
   "cell_type": "code",
   "execution_count": 6,
   "metadata": {},
   "outputs": [
    {
     "data": {
      "text/plain": [
       "array([[0.5       , 0.        , 0.70710678, 0.        , 0.        ],\n",
       "       [0.        , 1.5       , 0.        , 1.22474487, 0.        ],\n",
       "       [0.70710678, 0.        , 2.5       , 0.        , 1.73205081],\n",
       "       [0.        , 1.22474487, 0.        , 3.5       , 0.        ],\n",
       "       [0.        , 0.        , 1.73205081, 0.        , 2.        ]])"
      ]
     },
     "execution_count": 6,
     "metadata": {},
     "output_type": "execute_result"
    }
   ],
   "source": [
    "# FROM DAGGER OPERATORS\n",
    "a = op_a(5)\n",
    "adag = op_adag(5)\n",
    "# x2 = 0.5*((np.dot(a,a)+np.dot(adag,adag)+np.eye(5)+2*op_n(5))) # using aa^+ = 1 + n\n",
    "x2 = 0.5*((np.dot(a,a)+np.dot(adag,adag)+np.dot(adag,a)+np.dot(a,adag)))\n",
    "x2"
   ]
  },
  {
   "cell_type": "code",
   "execution_count": 7,
   "metadata": {},
   "outputs": [
    {
     "data": {
      "text/plain": [
       "array([[0.5       , 0.        , 0.70710678, 0.        , 0.        ],\n",
       "       [0.        , 1.5       , 0.        , 1.22474487, 0.        ],\n",
       "       [0.70710678, 0.        , 2.5       , 0.        , 1.73205081],\n",
       "       [0.        , 1.22474487, 0.        , 3.5       , 0.        ],\n",
       "       [0.        , 0.        , 1.73205081, 0.        , 2.        ]])"
      ]
     },
     "execution_count": 7,
     "metadata": {},
     "output_type": "execute_result"
    }
   ],
   "source": [
    "# FROM DEFINITION OF x\n",
    "x = op_x(5)\n",
    "x2_test = np.dot(x,x)\n",
    "x2_test"
   ]
  },
  {
   "cell_type": "markdown",
   "metadata": {},
   "source": [
    "__Result:__ Both are same, as expected. So our life is good."
   ]
  },
  {
   "cell_type": "code",
   "execution_count": 8,
   "metadata": {},
   "outputs": [],
   "source": [
    "def op_x2(n):\n",
    "    x = op_x(n)\n",
    "    mat = np.dot(x,x)\n",
    "    return mat\n",
    "\n",
    "def op_p2(n):\n",
    "    p = op_p(n)\n",
    "    mat = np.dot(p,p)\n",
    "    return mat\n",
    "\n",
    "def op_x3(n):\n",
    "    x = op_x(n)\n",
    "    x2 = op_x2(n)\n",
    "    mat = np.dot(x,x2)\n",
    "    return mat\n",
    "\n",
    "def op_x4(n):\n",
    "    x2 = op_x2(n)\n",
    "    mat = np.dot(x2,x2)\n",
    "    return mat"
   ]
  },
  {
   "cell_type": "markdown",
   "metadata": {},
   "source": [
    "### Defining the Hamiltonians in terms of Dagger Operators"
   ]
  },
  {
   "cell_type": "markdown",
   "metadata": {},
   "source": [
    "$$H_0 = \\frac{p^2}{2} + \\frac{x^2}{2}$$\n",
    "\n",
    "$$H_f = \\frac{p^2}{2} + \\frac{(x-b)^2}{2} + \\lambda(x-b)^4 $$"
   ]
  },
  {
   "cell_type": "code",
   "execution_count": 9,
   "metadata": {},
   "outputs": [
    {
     "ename": "SyntaxError",
     "evalue": "non-default argument follows default argument (<ipython-input-9-a5d01c939875>, line 7)",
     "output_type": "error",
     "traceback": [
      "\u001b[1;36m  File \u001b[1;32m\"<ipython-input-9-a5d01c939875>\"\u001b[1;36m, line \u001b[1;32m7\u001b[0m\n\u001b[1;33m    def op_Hf(n, b = 0, lam):\u001b[0m\n\u001b[1;37m             ^\u001b[0m\n\u001b[1;31mSyntaxError\u001b[0m\u001b[1;31m:\u001b[0m non-default argument follows default argument\n"
     ]
    }
   ],
   "source": [
    "def op_Hi(n):\n",
    "    x2 = op_x2(n)\n",
    "    p2 = op_p2(n)\n",
    "    mat = 0.5*(x2 + p2) \n",
    "    return mat\n",
    "    \n",
    "def op_Hf(n, b = 0, lam): # complete the  definition\n",
    "    x2 = op_x2(n)\n",
    "    p2 = op_p2(n)\n",
    "    mat = 0.5*(x2 + p2) \n",
    "    "
   ]
  },
  {
   "cell_type": "markdown",
   "metadata": {},
   "source": [
    "#### Sanity Checks"
   ]
  },
  {
   "cell_type": "code",
   "execution_count": 63,
   "metadata": {},
   "outputs": [
    {
     "data": {
      "text/plain": [
       "0.0"
      ]
     },
     "execution_count": 63,
     "metadata": {},
     "output_type": "execute_result"
    }
   ],
   "source": [
    "x = op_x(5) # element wise subtraction\n",
    "vec = np.asarray([1,0,0,0,0])\n",
    "np.dot(vec,np.dot(x,vec))"
   ]
  },
  {
   "cell_type": "code",
   "execution_count": 57,
   "metadata": {},
   "outputs": [
    {
     "data": {
      "text/plain": [
       "0.9600000000000002"
      ]
     },
     "execution_count": 57,
     "metadata": {},
     "output_type": "execute_result"
    }
   ],
   "source": [
    "x = op_x(5) # element wise subtraction\n",
    "vec = np.asarray([0,0.6,0.8,0,0])\n",
    "np.dot(vec,np.dot(x,vec))"
   ]
  },
  {
   "cell_type": "code",
   "execution_count": 62,
   "metadata": {},
   "outputs": [
    {
     "data": {
      "text/plain": [
       "0.9600000000000002"
      ]
     },
     "execution_count": 62,
     "metadata": {},
     "output_type": "execute_result"
    }
   ],
   "source": [
    "x = op_x(5) \n",
    "vec1 = np.asarray([0,1,0,0,0])\n",
    "vec2 = np.asarray([0,0,1,0,0])\n",
    "(0.6)*(0.8)*(np.dot(vec1,np.dot(x,vec2)) + np.dot(vec2,np.dot(x,vec1)))"
   ]
  },
  {
   "cell_type": "code",
   "execution_count": 50,
   "metadata": {},
   "outputs": [
    {
     "data": {
      "text/plain": [
       "-3.0"
      ]
     },
     "execution_count": 50,
     "metadata": {},
     "output_type": "execute_result"
    }
   ],
   "source": [
    "x = op_x(5) - 3*np.eye(5) # subtracting 3*I\n",
    "vec = np.asarray([1,0,0,0,0])\n",
    "np.dot(vec,np.dot(x,vec))"
   ]
  },
  {
   "cell_type": "code",
   "execution_count": 40,
   "metadata": {},
   "outputs": [
    {
     "data": {
      "text/plain": [
       "-2.04"
      ]
     },
     "execution_count": 40,
     "metadata": {},
     "output_type": "execute_result"
    }
   ],
   "source": [
    "x = op_x(5) - 3*np.eye(5) # subtracting 3*I\n",
    "vec = np.asarray([0,0.6,0.8,0,0])\n",
    "np.dot(vec,np.dot(x,vec))"
   ]
  },
  {
   "cell_type": "code",
   "execution_count": 46,
   "metadata": {},
   "outputs": [
    {
     "data": {
      "text/plain": [
       "-4.92"
      ]
     },
     "execution_count": 46,
     "metadata": {},
     "output_type": "execute_result"
    }
   ],
   "source": [
    "x = op_x(5) - 3 # element wise subtraction\n",
    "vec = np.asarray([0,0.6,0.8,0,0])\n",
    "np.dot(vec,np.dot(x,vec))"
   ]
  },
  {
   "cell_type": "code",
   "execution_count": null,
   "metadata": {},
   "outputs": [],
   "source": []
  }
 ],
 "metadata": {
  "kernelspec": {
   "display_name": "Python 3",
   "language": "python",
   "name": "python3"
  },
  "language_info": {
   "codemirror_mode": {
    "name": "ipython",
    "version": 3
   },
   "file_extension": ".py",
   "mimetype": "text/x-python",
   "name": "python",
   "nbconvert_exporter": "python",
   "pygments_lexer": "ipython3",
   "version": "3.7.3"
  }
 },
 "nbformat": 4,
 "nbformat_minor": 2
}
