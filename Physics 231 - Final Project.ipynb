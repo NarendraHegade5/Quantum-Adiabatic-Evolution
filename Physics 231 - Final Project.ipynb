{
 "cells": [
  {
   "cell_type": "markdown",
   "metadata": {},
   "source": [
    "# Physics 231: Final Project\n",
    "## Adiabatic Evolution of the Anharmonic Oscillator"
   ]
  },
  {
   "cell_type": "code",
   "execution_count": 1,
   "metadata": {},
   "outputs": [],
   "source": [
    "import numpy as np\n",
    "from scipy.linalg import expm\n",
    "import matplotlib.pyplot as plt"
   ]
  },
  {
   "cell_type": "code",
   "execution_count": 2,
   "metadata": {},
   "outputs": [],
   "source": [
    "# IN SI UNITS\n",
    "# const_hbar = 1.0545718 * 1e-34\n",
    "# const_omega = 1e+16\n",
    "# const_mass = 9.10938356 * 1e-31\n",
    "\n",
    "const_hbar = 1\n",
    "const_omega = 1\n",
    "const_mass = 1"
   ]
  },
  {
   "cell_type": "markdown",
   "metadata": {},
   "source": [
    "### Defining the Ladder Operators in the Harmonic Oscillator Basis"
   ]
  },
  {
   "cell_type": "markdown",
   "metadata": {},
   "source": [
    "__Note:__ n sets the size of the Hilbert Space spanned by the basis states $\\{|0\\rangle,|1\\rangle,...,|n-1\\rangle\\}$."
   ]
  },
  {
   "cell_type": "code",
   "execution_count": 3,
   "metadata": {},
   "outputs": [],
   "source": [
    "def op_a(n):\n",
    "    mat = np.zeros((n, n))\n",
    "    for i in range(n-1):\n",
    "        mat[i][i+1] = np.sqrt(i+1)\n",
    "    return mat\n",
    "\n",
    "def op_adag(n):\n",
    "    mat = np.zeros((n, n))\n",
    "    for i in range(n-1):\n",
    "        mat[i+1][i] = np.sqrt(i+1)\n",
    "    return mat\n",
    "\n",
    "def op_n(n):\n",
    "    a = op_a(n)\n",
    "    adag = op_adag(n)\n",
    "    mat = np.dot(adag,a)\n",
    "    return mat"
   ]
  },
  {
   "cell_type": "code",
   "execution_count": 4,
   "metadata": {},
   "outputs": [
    {
     "name": "stdout",
     "output_type": "stream",
     "text": [
      "[[ 1.  0.  0.  0.  0.]\n",
      " [ 0.  1.  0.  0.  0.]\n",
      " [ 0.  0.  1.  0.  0.]\n",
      " [ 0.  0.  0.  1.  0.]\n",
      " [ 0.  0.  0.  0. -4.]]\n",
      "[[0. 0. 0. 0. 0.]\n",
      " [0. 1. 0. 0. 0.]\n",
      " [0. 0. 2. 0. 0.]\n",
      " [0. 0. 0. 3. 0.]\n",
      " [0. 0. 0. 0. 4.]]\n"
     ]
    }
   ],
   "source": [
    "a = op_a(5)\n",
    "b = op_adag(5)\n",
    "print(np.dot(a,b)-np.dot(b,a)) #expect [a,adag] = 1\n",
    "print(op_n(5))"
   ]
  },
  {
   "cell_type": "markdown",
   "metadata": {},
   "source": [
    "__Note:__ The error in the last row is a result of the fact that the originally infinite Hilbert Space has been truncated."
   ]
  },
  {
   "cell_type": "markdown",
   "metadata": {},
   "source": [
    "### Defining the x,p in terms of Dagger Operators"
   ]
  },
  {
   "cell_type": "markdown",
   "metadata": {},
   "source": [
    "$$x = \\sqrt{\\frac{\\hbar}{2m\\omega}}(a+a^+)$$\n",
    "\n",
    "$$p = -i\\sqrt{\\frac{m\\omega\\hbar}{2}}(a-a^+)$$"
   ]
  },
  {
   "cell_type": "markdown",
   "metadata": {},
   "source": [
    "#### We will be setting $\\hbar = m = \\omega = 1$ "
   ]
  },
  {
   "cell_type": "code",
   "execution_count": 5,
   "metadata": {},
   "outputs": [],
   "source": [
    "def op_x(n):\n",
    "    mat = np.sqrt(const_hbar/(2*const_mass*const_omega))*(op_a(n) + op_adag(n))\n",
    "    return mat\n",
    "\n",
    "def op_p(n):\n",
    "    mat = (-1j)*np.sqrt((const_hbar*const_mass*const_omega)/2)*(op_a(n) - op_adag(n))\n",
    "    return mat"
   ]
  },
  {
   "cell_type": "code",
   "execution_count": 6,
   "metadata": {},
   "outputs": [
    {
     "name": "stdout",
     "output_type": "stream",
     "text": [
      "[[ 1.  0.  0.  0.  0.]\n",
      " [ 0.  1.  0.  0.  0.]\n",
      " [ 0.  0.  1.  0.  0.]\n",
      " [ 0.  0.  0.  1.  0.]\n",
      " [ 0.  0.  0.  0. -4.]]\n"
     ]
    }
   ],
   "source": [
    "x = op_x(5)\n",
    "p = op_p(5)\n",
    "print(np.imag(np.dot(x,p)-np.dot(p,x))) # expect [x,p] = ihbar"
   ]
  },
  {
   "cell_type": "markdown",
   "metadata": {},
   "source": [
    "#### Test: Is $x^2$ the same from definition of x and dagger operators"
   ]
  },
  {
   "cell_type": "code",
   "execution_count": 7,
   "metadata": {},
   "outputs": [
    {
     "data": {
      "text/plain": [
       "array([[0.5       , 0.        , 0.70710678, 0.        , 0.        ],\n",
       "       [0.        , 1.5       , 0.        , 1.22474487, 0.        ],\n",
       "       [0.70710678, 0.        , 2.5       , 0.        , 1.73205081],\n",
       "       [0.        , 1.22474487, 0.        , 3.5       , 0.        ],\n",
       "       [0.        , 0.        , 1.73205081, 0.        , 2.        ]])"
      ]
     },
     "execution_count": 7,
     "metadata": {},
     "output_type": "execute_result"
    }
   ],
   "source": [
    "# FROM DAGGER OPERATORS\n",
    "a = op_a(5)\n",
    "adag = op_adag(5)\n",
    "# x2 = 0.5*((np.dot(a,a)+np.dot(adag,adag)+np.eye(5)+2*op_n(5))) # using aa^+ = 1 + n\n",
    "x2 = 0.5*((np.dot(a,a)+np.dot(adag,adag)+np.dot(adag,a)+np.dot(a,adag)))\n",
    "x2"
   ]
  },
  {
   "cell_type": "code",
   "execution_count": 8,
   "metadata": {},
   "outputs": [
    {
     "data": {
      "text/plain": [
       "array([[0.5       , 0.        , 0.70710678, 0.        , 0.        ],\n",
       "       [0.        , 1.5       , 0.        , 1.22474487, 0.        ],\n",
       "       [0.70710678, 0.        , 2.5       , 0.        , 1.73205081],\n",
       "       [0.        , 1.22474487, 0.        , 3.5       , 0.        ],\n",
       "       [0.        , 0.        , 1.73205081, 0.        , 2.        ]])"
      ]
     },
     "execution_count": 8,
     "metadata": {},
     "output_type": "execute_result"
    }
   ],
   "source": [
    "# FROM DEFINITION OF x\n",
    "x = op_x(5)\n",
    "x2_test = np.dot(x,x)\n",
    "x2_test"
   ]
  },
  {
   "cell_type": "markdown",
   "metadata": {},
   "source": [
    "__Result:__ Both are same, as expected. Life is good."
   ]
  },
  {
   "cell_type": "code",
   "execution_count": 9,
   "metadata": {},
   "outputs": [],
   "source": [
    "def op_x2(n):\n",
    "    x = op_x(n)\n",
    "    mat = np.dot(x,x)\n",
    "    return mat\n",
    "\n",
    "def op_p2(n):\n",
    "    p = op_p(n)\n",
    "    mat = np.dot(p,p)\n",
    "    return mat\n",
    "\n",
    "def op_x3(n):\n",
    "    x = op_x(n)\n",
    "    x2 = op_x2(n)\n",
    "    mat = np.dot(x,x2)\n",
    "    return mat\n",
    "\n",
    "def op_x4(n):\n",
    "    x2 = op_x2(n)\n",
    "    mat = np.dot(x2,x2)\n",
    "    return mat"
   ]
  },
  {
   "cell_type": "markdown",
   "metadata": {},
   "source": [
    "### Defining the Hamiltonians in terms of Dagger Operators"
   ]
  },
  {
   "cell_type": "markdown",
   "metadata": {},
   "source": [
    "$$H_i = \\frac{p^2}{2m} + \\frac{m\\omega^2 x^2}{2}$$\n",
    "\n",
    "$$H_f = \\frac{p^2}{2m} + \\frac{m\\omega^2(x-b)^2}{2} + \\lambda (x-b)^4 $$"
   ]
  },
  {
   "cell_type": "code",
   "execution_count": 10,
   "metadata": {},
   "outputs": [],
   "source": [
    "def op_Hi(n):\n",
    "    x2 = op_x2(n)\n",
    "    p2 = op_p2(n)\n",
    "    mat = 0.5*(const_mass*const_omega**2*x2 + p2/const_mass) \n",
    "    return mat\n",
    "    \n",
    "def op_Hf(n, b, lam): # complete the definition with b\n",
    "    b = b*np.eye(n)\n",
    "    x = op_x(n)\n",
    "    x2 = np.dot(x-b,x-b)\n",
    "    x4 = np.dot(x2,x2)\n",
    "    p2 = op_p2(n)\n",
    "    mat = 0.5*(const_mass*const_omega**2*x2 + p2/const_mass) + lam*x4\n",
    "    return mat "
   ]
  },
  {
   "cell_type": "code",
   "execution_count": 11,
   "metadata": {},
   "outputs": [
    {
     "data": {
      "text/plain": [
       "<matplotlib.image.AxesImage at 0x1eabbd38908>"
      ]
     },
     "execution_count": 11,
     "metadata": {},
     "output_type": "execute_result"
    },
    {
     "data": {
      "image/png": "[encoded data removed]",
      "text/plain": [
       "<Figure size 432x288 with 1 Axes>"
      ]
     },
     "metadata": {
      "needs_background": "light"
     },
     "output_type": "display_data"
    }
   ],
   "source": [
    "op_Hf(5,0,1)\n",
    "plt.imshow(np.real(op_Hf(5,0,1)))"
   ]
  },
  {
   "cell_type": "markdown",
   "metadata": {},
   "source": [
    "### Quantum Adiabatic Evolution"
   ]
  },
  {
   "cell_type": "markdown",
   "metadata": {},
   "source": [
    "We want to evolve the system from the initial $H_i$ to the final $H_f$ using the Adiabatic Theorem such that:\n",
    "\n",
    "$$ H(t, T, \\lambda, b) = H_i \\Big(1 - \\frac{t}{T}\\Big) + H_f(\\lambda, b) \\frac{t}{T} $$\n",
    "\n",
    "where $t \\in [0,T]$.\n",
    "\n",
    "To do so, we will time evolve the ground state $|0\\rangle$ of the SHO using the time dependent Hamiltonian above. "
   ]
  },
  {
   "cell_type": "code",
   "execution_count": 12,
   "metadata": {},
   "outputs": [],
   "source": [
    "def state_n(dim, n):\n",
    "    vec = np.zeros(dim)\n",
    "    vec[n] = 1\n",
    "    return vec"
   ]
  },
  {
   "cell_type": "code",
   "execution_count": 21,
   "metadata": {},
   "outputs": [
    {
     "data": {
      "image/png": "[encoded data removed]",
      "text/plain": [
       "<Figure size 432x288 with 1 Axes>"
      ]
     },
     "metadata": {
      "needs_background": "light"
     },
     "output_type": "display_data"
    },
    {
     "data": {
      "image/png": "[encoded data removed]",
      "text/plain": [
       "<Figure size 432x288 with 1 Axes>"
      ]
     },
     "metadata": {
      "needs_background": "light"
     },
     "output_type": "display_data"
    }
   ],
   "source": [
    "lam = 0.01\n",
    "b = 0\n",
    "dim = 30\n",
    "\n",
    "T_range = []\n",
    "prob = []\n",
    "\n",
    "psi_i = state_n(dim, 0)\n",
    "\n",
    "Hf = op_Hf(dim, b, lam)\n",
    "eigval, eigvec  = np.linalg.eig(Hf)\n",
    "psi_f = eigvec[np.argmin(eigval)]\n",
    "plt.plot(np.abs(psi_f))\n",
    "plt.show()\n",
    "\n",
    "T_ar = np.arange(0.1,1,0.1)\n",
    "for T in T_ar:\n",
    "    \n",
    "    time = np.linspace(0,T,1000)\n",
    "    step = T/1000\n",
    "    psi = psi_i + 1j*np.zeros(dim)\n",
    "    for t in time:\n",
    "        H_t = op_Hi(dim)*(1-t/T) + op_Hf(dim, b, lam)*(t/T)\n",
    "        # H_t = op_Hi(dim) + op_Hf(dim, b, lam)\n",
    "        # H_t = op_Hf(dim, b, lam)*(1-t/T) + op_Hf(dim, b, lam)*(t/T)\n",
    "        # print(np.transpose(np.conj(H_t)) - H_t)\n",
    "        del_psi = -1j*np.dot(H_t,psi)*step\n",
    "        psi += del_psi\n",
    "        # print(np.dot(np.conj(psi),psi))\n",
    "            \n",
    "    overlap = np.dot(psi_f,psi)\n",
    "\n",
    "    T_range.append(T)\n",
    "    prob.append(np.dot(np.conj(overlap),overlap))\n",
    "    \n",
    "plt.semilogy(T_range, prob)\n",
    "#plt.ylim(-2, 2)\n",
    "plt.show()"
   ]
  },
  {
   "cell_type": "markdown",
   "metadata": {},
   "source": [
    "### Checking the enerygy gap"
   ]
  },
  {
   "cell_type": "code",
   "execution_count": 28,
   "metadata": {},
   "outputs": [
    {
     "data": {
      "text/plain": [
       "[<matplotlib.lines.Line2D at 0x1eac0872a20>]"
      ]
     },
     "execution_count": 28,
     "metadata": {},
     "output_type": "execute_result"
    },
    {
     "data": {
      "image/png": "[encoded data removed]",
      "text/plain": [
       "<Figure size 432x288 with 1 Axes>"
      ]
     },
     "metadata": {
      "needs_background": "light"
     },
     "output_type": "display_data"
    }
   ],
   "source": [
    "lam = 0.1\n",
    "T = 10\n",
    "e1 = []\n",
    "e2 = []\n",
    "    \n",
    "time = np.linspace(0,T,1000)\n",
    "step = T/1000\n",
    "psi = psi_i + 1j*np.zeros(dim)\n",
    "for t in time:\n",
    "    H_t = op_Hi(dim)*(1-t/T) + op_Hf(dim, b, lam)*(t/T)\n",
    "    eigval, eigvec  = np.linalg.eig(H_t)\n",
    "    eigval = np.sort(eigval)\n",
    "    e1.append(eigval[0])\n",
    "    e2.append(eigval[1])\n",
    "        \n",
    "plt.plot(time, e1, color = 'b')\n",
    "plt.plot(time, e2, color = 'g')"
   ]
  },
  {
   "cell_type": "markdown",
   "metadata": {},
   "source": [
    "### Other Failed Attempts"
   ]
  },
  {
   "cell_type": "code",
   "execution_count": 106,
   "metadata": {},
   "outputs": [
    {
     "name": "stdout",
     "output_type": "stream",
     "text": [
      "psi_f [ 5.92558916e-01+0.00000000e+00j -3.28923318e-01+7.70371978e-33j\n",
      "  1.53133529e-01-5.77778983e-34j -2.80871103e-08-7.85874755e-26j\n",
      "  1.88317734e-08-2.32573983e-26j -1.70006983e-07+5.02716879e-25j\n",
      " -2.64379400e-02-1.94846620e-34j -2.26789941e-06-7.07591889e-24j\n",
      " -6.68745757e-02+4.23704588e-33j  6.31841810e-06-9.23955474e-23j\n",
      "  1.35337777e-01+7.70371978e-33j  2.34572001e-04-4.19792320e-21j\n",
      " -1.84335943e-01+1.30963236e-32j  3.38262027e-03-2.98175183e-19j\n",
      "  2.17586136e-01-6.00890143e-32j -7.44800746e-04-4.22547788e-19j\n",
      " -2.37817265e-01+5.85482703e-32j -1.20869503e-02-4.20494777e-20j\n",
      "  2.47109938e-01-1.46939121e-31j  1.51959781e-02-3.54347019e-20j\n",
      " -2.47358318e-01+1.23259516e-31j -1.22619433e-02+5.14510364e-19j\n",
      "  2.39757767e-01+9.86076132e-32j  6.39493621e-03-3.54141122e-18j\n",
      " -2.25622663e-01-2.46519033e-32j  3.35659646e-03+1.67422595e-18j\n",
      "  1.89170037e-01+2.68705746e-30j  6.83150118e-02-2.90940783e-19j\n",
      " -1.81614424e-01+4.93038066e-31j -2.40612073e-02+1.87665491e-19j\n",
      "  1.53346638e-01+1.67632942e-30j  2.30358360e-02+5.36212025e-19j\n",
      " -1.22312107e-01-3.74708930e-30j -2.96966285e-02+1.04155210e-18j\n",
      "  8.88471057e-02+2.91878535e-29j -8.62512095e-03+1.63352223e-17j\n",
      " -3.54716267e-03-3.56097837e-18j  1.78564612e-02+3.23913546e-24j\n",
      " -3.48190561e-02-1.75275614e-14j -3.48199760e-02+1.75123414e-14j]\n"
     ]
    },
    {
     "ename": "OverflowError",
     "evalue": "cannot convert float infinity to integer",
     "output_type": "error",
     "traceback": [
      "\u001b[1;31m---------------------------------------------------------------------------\u001b[0m",
      "\u001b[1;31mOverflowError\u001b[0m                             Traceback (most recent call last)",
      "\u001b[1;32m<ipython-input-106-b7da54a57b69>\u001b[0m in \u001b[0;36m<module>\u001b[1;34m\u001b[0m\n\u001b[0;32m     41\u001b[0m \u001b[1;33m\u001b[0m\u001b[0m\n\u001b[0;32m     42\u001b[0m     \u001b[1;31m# psi_T1 = np.dot(expm(-1j*H_t),psi_i)\u001b[0m\u001b[1;33m\u001b[0m\u001b[1;33m\u001b[0m\u001b[1;33m\u001b[0m\u001b[0m\n\u001b[1;32m---> 43\u001b[1;33m     \u001b[0mpsi_T2\u001b[0m \u001b[1;33m=\u001b[0m \u001b[0mnp\u001b[0m\u001b[1;33m.\u001b[0m\u001b[0mdot\u001b[0m\u001b[1;33m(\u001b[0m\u001b[0mexpm\u001b[0m\u001b[1;33m(\u001b[0m\u001b[1;33m-\u001b[0m\u001b[1;36m1j\u001b[0m\u001b[1;33m*\u001b[0m\u001b[0mconst_hbar\u001b[0m\u001b[1;33m*\u001b[0m\u001b[0mH_t_2\u001b[0m\u001b[1;33m)\u001b[0m\u001b[1;33m,\u001b[0m\u001b[0mpsi_i\u001b[0m\u001b[1;33m)\u001b[0m\u001b[1;33m\u001b[0m\u001b[1;33m\u001b[0m\u001b[0m\n\u001b[0m\u001b[0;32m     44\u001b[0m     \u001b[1;31m#print(\"state time\",psi_T2)\u001b[0m\u001b[1;33m\u001b[0m\u001b[1;33m\u001b[0m\u001b[1;33m\u001b[0m\u001b[0m\n\u001b[0;32m     45\u001b[0m     \u001b[1;31m#print(np.absolute(psi_T))\u001b[0m\u001b[1;33m\u001b[0m\u001b[1;33m\u001b[0m\u001b[1;33m\u001b[0m\u001b[0m\n",
      "\u001b[1;32m~\\Anaconda3\\lib\\site-packages\\scipy\\linalg\\matfuncs.py\u001b[0m in \u001b[0;36mexpm\u001b[1;34m(A)\u001b[0m\n\u001b[0;32m    254\u001b[0m     \u001b[1;31m# Input checking and conversion is provided by sparse.linalg.expm().\u001b[0m\u001b[1;33m\u001b[0m\u001b[1;33m\u001b[0m\u001b[1;33m\u001b[0m\u001b[0m\n\u001b[0;32m    255\u001b[0m     \u001b[1;32mimport\u001b[0m \u001b[0mscipy\u001b[0m\u001b[1;33m.\u001b[0m\u001b[0msparse\u001b[0m\u001b[1;33m.\u001b[0m\u001b[0mlinalg\u001b[0m\u001b[1;33m\u001b[0m\u001b[1;33m\u001b[0m\u001b[0m\n\u001b[1;32m--> 256\u001b[1;33m     \u001b[1;32mreturn\u001b[0m \u001b[0mscipy\u001b[0m\u001b[1;33m.\u001b[0m\u001b[0msparse\u001b[0m\u001b[1;33m.\u001b[0m\u001b[0mlinalg\u001b[0m\u001b[1;33m.\u001b[0m\u001b[0mexpm\u001b[0m\u001b[1;33m(\u001b[0m\u001b[0mA\u001b[0m\u001b[1;33m)\u001b[0m\u001b[1;33m\u001b[0m\u001b[1;33m\u001b[0m\u001b[0m\n\u001b[0m\u001b[0;32m    257\u001b[0m \u001b[1;33m\u001b[0m\u001b[0m\n\u001b[0;32m    258\u001b[0m \u001b[1;33m\u001b[0m\u001b[0m\n",
      "\u001b[1;32m~\\Anaconda3\\lib\\site-packages\\scipy\\sparse\\linalg\\matfuncs.py\u001b[0m in \u001b[0;36mexpm\u001b[1;34m(A)\u001b[0m\n\u001b[0;32m    604\u001b[0m             [  0.        ,   0.        ,  20.08553692]])\n\u001b[0;32m    605\u001b[0m     \"\"\"\n\u001b[1;32m--> 606\u001b[1;33m     \u001b[1;32mreturn\u001b[0m \u001b[0m_expm\u001b[0m\u001b[1;33m(\u001b[0m\u001b[0mA\u001b[0m\u001b[1;33m,\u001b[0m \u001b[0muse_exact_onenorm\u001b[0m\u001b[1;33m=\u001b[0m\u001b[1;34m'auto'\u001b[0m\u001b[1;33m)\u001b[0m\u001b[1;33m\u001b[0m\u001b[1;33m\u001b[0m\u001b[0m\n\u001b[0m\u001b[0;32m    607\u001b[0m \u001b[1;33m\u001b[0m\u001b[0m\n\u001b[0;32m    608\u001b[0m \u001b[1;33m\u001b[0m\u001b[0m\n",
      "\u001b[1;32m~\\Anaconda3\\lib\\site-packages\\scipy\\sparse\\linalg\\matfuncs.py\u001b[0m in \u001b[0;36m_expm\u001b[1;34m(A, use_exact_onenorm)\u001b[0m\n\u001b[0;32m    675\u001b[0m         \u001b[0ms\u001b[0m \u001b[1;33m=\u001b[0m \u001b[1;36m0\u001b[0m\u001b[1;33m\u001b[0m\u001b[1;33m\u001b[0m\u001b[0m\n\u001b[0;32m    676\u001b[0m     \u001b[1;32melse\u001b[0m\u001b[1;33m:\u001b[0m\u001b[1;33m\u001b[0m\u001b[1;33m\u001b[0m\u001b[0m\n\u001b[1;32m--> 677\u001b[1;33m         \u001b[0ms\u001b[0m \u001b[1;33m=\u001b[0m \u001b[0mmax\u001b[0m\u001b[1;33m(\u001b[0m\u001b[0mint\u001b[0m\u001b[1;33m(\u001b[0m\u001b[0mnp\u001b[0m\u001b[1;33m.\u001b[0m\u001b[0mceil\u001b[0m\u001b[1;33m(\u001b[0m\u001b[0mnp\u001b[0m\u001b[1;33m.\u001b[0m\u001b[0mlog2\u001b[0m\u001b[1;33m(\u001b[0m\u001b[0meta_5\u001b[0m \u001b[1;33m/\u001b[0m \u001b[0mtheta_13\u001b[0m\u001b[1;33m)\u001b[0m\u001b[1;33m)\u001b[0m\u001b[1;33m)\u001b[0m\u001b[1;33m,\u001b[0m \u001b[1;36m0\u001b[0m\u001b[1;33m)\u001b[0m\u001b[1;33m\u001b[0m\u001b[1;33m\u001b[0m\u001b[0m\n\u001b[0m\u001b[0;32m    678\u001b[0m     \u001b[0ms\u001b[0m \u001b[1;33m=\u001b[0m \u001b[0ms\u001b[0m \u001b[1;33m+\u001b[0m \u001b[0m_ell\u001b[0m\u001b[1;33m(\u001b[0m\u001b[1;36m2\u001b[0m\u001b[1;33m**\u001b[0m\u001b[1;33m-\u001b[0m\u001b[0ms\u001b[0m \u001b[1;33m*\u001b[0m \u001b[0mh\u001b[0m\u001b[1;33m.\u001b[0m\u001b[0mA\u001b[0m\u001b[1;33m,\u001b[0m \u001b[1;36m13\u001b[0m\u001b[1;33m)\u001b[0m\u001b[1;33m\u001b[0m\u001b[1;33m\u001b[0m\u001b[0m\n\u001b[0;32m    679\u001b[0m     \u001b[0mU\u001b[0m\u001b[1;33m,\u001b[0m \u001b[0mV\u001b[0m \u001b[1;33m=\u001b[0m \u001b[0mh\u001b[0m\u001b[1;33m.\u001b[0m\u001b[0mpade13_scaled\u001b[0m\u001b[1;33m(\u001b[0m\u001b[0ms\u001b[0m\u001b[1;33m)\u001b[0m\u001b[1;33m\u001b[0m\u001b[1;33m\u001b[0m\u001b[0m\n",
      "\u001b[1;31mOverflowError\u001b[0m: cannot convert float infinity to integer"
     ]
    }
   ],
   "source": [
    "# T = 10\n",
    "lam = 1e+120\n",
    "b = 0\n",
    "time = np.arange(0,10,0.01)\n",
    "dim = 40\n",
    "\n",
    "T_range = []\n",
    "prob1 = []\n",
    "prob2 = []\n",
    "\n",
    "psi_i = state_n(dim, 0)\n",
    "H_t = 1j*np.zeros((dim,dim))\n",
    "\n",
    "Hf = op_Hf(dim, b, lam)\n",
    "eigval, eigvec  = np.linalg.eig(Hf)\n",
    "psi_f = eigvec[np.argmin(eigval)]\n",
    "print(\"psi_f\",psi_f)\n",
    "\n",
    "# T_ar = np.logspace(-50,-37,100)\n",
    "T_ar = np.arange(0,10,1)\n",
    "for T in T_ar:\n",
    "    \n",
    "#     time = np.arange(0,T,0.0001)\n",
    "#     for t in time:\n",
    "#         H_t += (op_Hi(dim)*(1-t/T) + op_Hf(dim, b, lam)*(t/T))*0.1\n",
    "    #print(np.real(H_t))\n",
    "    \n",
    "#     time = np.arange(0,T,0.01)\n",
    "#     for t in time:\n",
    "#         mat = (op_Hi(dim)*(1-t/T) + op_Hf(dim, b, lam)*(t/T))*0.1\n",
    "#         if (t == 0):\n",
    "#             H_t = mat\n",
    "#         else:\n",
    "#             H_t = np.dot(mat,H_t)\n",
    "            \n",
    "        \n",
    "    #print(np.real(H_t))\n",
    "\n",
    "    H_t_2 = op_Hi(dim)*(T/2) + op_Hf(dim, b, lam)*(T/2)\n",
    "    #print(np.real(H_t_2))\n",
    "    \n",
    "    # psi_T1 = np.dot(expm(-1j*H_t),psi_i)\n",
    "    psi_T2 = np.dot(expm(-1j*const_hbar*H_t_2),psi_i)\n",
    "    #print(\"state time\",psi_T2)\n",
    "    #print(np.absolute(psi_T))\n",
    "    \n",
    "    # overlap1 = np.dot(psi_f,psi_T1)\n",
    "    #print(overlap1)\n",
    "    overlap2 = np.dot(psi_f,psi_T2)\n",
    "    \n",
    "    #print(\"overlap\",overlap2)\n",
    "    #print(np.dot(np.conj(psi_T2), psi_T2))\n",
    "    T_range.append(T)\n",
    "    #prob1.append(np.linalg.norm(psi_T1))\n",
    "    #prob2.append(np.linalg.norm(psi_T2))\n",
    "    #prob1.append(np.dot(np.conj(overlap1),overlap1))\n",
    "    prob2.append(np.dot(np.conj(overlap2),overlap2))"
   ]
  },
  {
   "cell_type": "code",
   "execution_count": 101,
   "metadata": {},
   "outputs": [
    {
     "data": {
      "image/png": "[encoded data removed]",
      "text/plain": [
       "<Figure size 432x288 with 1 Axes>"
      ]
     },
     "metadata": {
      "needs_background": "light"
     },
     "output_type": "display_data"
    }
   ],
   "source": [
    "#plt.plot(T_range, prob1, color = 'b')\n",
    "plt.plot(T_range, prob2, color = 'g')\n",
    "plt.xscale('log')\n",
    "plt.show()"
   ]
  },
  {
   "cell_type": "code",
   "execution_count": 36,
   "metadata": {},
   "outputs": [
    {
     "data": {
      "text/plain": [
       "array([48.44674207+0.j,  0.5072562 +0.j, 37.85987546+0.j,  2.5908458 +0.j,\n",
       "       47.52905502+0.j, 31.50675541+0.j,  4.77491312+0.j,  7.04832688+0.j,\n",
       "       27.67056   +0.j,  9.40269231+0.j,  1.53564828+0.j, 24.91850178+0.j,\n",
       "       11.83140079+0.j,  3.67109494+0.j, 36.89494242+0.j, 22.19510504+0.j,\n",
       "       14.32908402+0.j, 19.5141654 +0.j,  5.90102667+0.j, 16.89127572+0.j,\n",
       "       30.45004579+0.j,  8.21583781+0.j, 10.60811357+0.j, 26.42676103+0.j,\n",
       "       13.07191784+0.j, 23.55880521+0.j, 20.84873702+0.j, 18.19535846+0.j,\n",
       "       15.60236405+0.j, 16.97779189+0.j])"
      ]
     },
     "execution_count": 36,
     "metadata": {},
     "output_type": "execute_result"
    }
   ],
   "source": [
    "eigval, eigvec  = np.linalg.eig(Hf)\n",
    "eigval"
   ]
  },
  {
   "cell_type": "code",
   "execution_count": 109,
   "metadata": {},
   "outputs": [
    {
     "data": {
      "text/plain": [
       "array([1.+0.j, 0.+0.j, 0.+0.j, 0.+0.j, 0.+0.j])"
      ]
     },
     "execution_count": 109,
     "metadata": {},
     "output_type": "execute_result"
    }
   ],
   "source": [
    "state_n(5, 0) + 1j*np.zeros(5)"
   ]
  },
  {
   "cell_type": "code",
   "execution_count": null,
   "metadata": {},
   "outputs": [],
   "source": [
    "psi_i = [1,0,0,0,0]\n",
    "psi_T = np.dot(expm(-1j*H_t),psi_i)\n",
    "print(psi_T)\n",
    "print(np.absolute(psi_T))"
   ]
  },
  {
   "cell_type": "code",
   "execution_count": null,
   "metadata": {},
   "outputs": [],
   "source": [
    "mat = expm(-1j*H_t)\n",
    "np.dot(np.transpose(np.conj(mat)),mat) - np.eye(5)"
   ]
  },
  {
   "cell_type": "code",
   "execution_count": null,
   "metadata": {},
   "outputs": [],
   "source": [
    "np.absolute([3+4j])"
   ]
  },
  {
   "cell_type": "code",
   "execution_count": null,
   "metadata": {},
   "outputs": [],
   "source": [
    "np.linalg.norm([3+4j, 4j])"
   ]
  },
  {
   "cell_type": "code",
   "execution_count": null,
   "metadata": {},
   "outputs": [],
   "source": [
    "state_n(10,0)"
   ]
  },
  {
   "cell_type": "code",
   "execution_count": null,
   "metadata": {},
   "outputs": [],
   "source": [
    "dim = 10\n",
    "lam = 0.1\n",
    "psi_f = psi_i + lam*(-np.sqrt(2)/8)*(3*state_n(dim, 2) + np.sqrt(3)*state_n(dim, 4))\n",
    "np.dot(psi_f,psi_f)"
   ]
  },
  {
   "cell_type": "markdown",
   "metadata": {},
   "source": [
    "#### Sanity Checks"
   ]
  },
  {
   "cell_type": "code",
   "execution_count": null,
   "metadata": {},
   "outputs": [],
   "source": [
    "x = op_x(5)\n",
    "vec = np.asarray([1,0,0,0,0])\n",
    "np.dot(vec,np.dot(x,vec))"
   ]
  },
  {
   "cell_type": "code",
   "execution_count": null,
   "metadata": {},
   "outputs": [],
   "source": [
    "x = op_x(5)\n",
    "vec = np.asarray([0,0.6,0.8,0,0])\n",
    "np.dot(vec,np.dot(x,vec))"
   ]
  },
  {
   "cell_type": "code",
   "execution_count": null,
   "metadata": {},
   "outputs": [],
   "source": [
    "x = op_x(5) \n",
    "vec1 = np.asarray([0,1,0,0,0])\n",
    "vec2 = np.asarray([0,0,1,0,0])\n",
    "(0.6)*(0.8)*(np.dot(vec1,np.dot(x,vec2)) + np.dot(vec2,np.dot(x,vec1)))"
   ]
  },
  {
   "cell_type": "code",
   "execution_count": null,
   "metadata": {},
   "outputs": [],
   "source": [
    "x = op_x(5) - 3*np.eye(5) # subtracting 3*I\n",
    "vec = np.asarray([1,0,0,0,0])\n",
    "np.dot(vec,np.dot(x,vec))"
   ]
  },
  {
   "cell_type": "code",
   "execution_count": null,
   "metadata": {},
   "outputs": [],
   "source": [
    "x = op_x(5) - 3 # element wise subtraction\n",
    "vec = np.asarray([1,0,0,0,0])\n",
    "np.dot(vec,np.dot(x,vec))"
   ]
  },
  {
   "cell_type": "code",
   "execution_count": null,
   "metadata": {},
   "outputs": [],
   "source": [
    "x = op_x(5) - 3*np.eye(5) # subtracting 3*I\n",
    "vec = np.asarray([0,0.6,0.8,0,0])\n",
    "np.dot(vec,np.dot(x,vec))"
   ]
  },
  {
   "cell_type": "code",
   "execution_count": null,
   "metadata": {},
   "outputs": [],
   "source": [
    "x = op_x(5) - 3 # element wise subtraction\n",
    "vec = np.asarray([0,0.6,0.8,0,0])\n",
    "np.dot(vec,np.dot(x,vec))"
   ]
  },
  {
   "cell_type": "code",
   "execution_count": null,
   "metadata": {},
   "outputs": [],
   "source": []
  }
 ],
 "metadata": {
  "kernelspec": {
   "display_name": "Python 3",
   "language": "python",
   "name": "python3"
  },
  "language_info": {
   "codemirror_mode": {
    "name": "ipython",
    "version": 3
   },
   "file_extension": ".py",
   "mimetype": "text/x-python",
   "name": "python",
   "nbconvert_exporter": "python",
   "pygments_lexer": "ipython3",
   "version": "3.7.3"
  }
 },
 "nbformat": 4,
 "nbformat_minor": 2
}
