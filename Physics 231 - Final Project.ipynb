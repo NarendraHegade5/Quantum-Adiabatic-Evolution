{
 "cells": [
  {
   "cell_type": "markdown",
   "metadata": {},
   "source": [
    "# Physics 231: Final Project\n",
    "# Quantum Adiabatic Evolution vs QAOA: Anharmonic Oscillator"
   ]
  },
  {
   "cell_type": "markdown",
   "metadata": {},
   "source": [
    "____________\n",
    "\n",
    "## Setup"
   ]
  },
  {
   "cell_type": "code",
   "execution_count": 1,
   "metadata": {},
   "outputs": [],
   "source": [
    "import numpy as np\n",
    "from scipy.linalg import expm\n",
    "import matplotlib.pyplot as plt\n",
    "from scipy.optimize import minimize"
   ]
  },
  {
   "cell_type": "markdown",
   "metadata": {},
   "source": [
    "#### We will be setting $\\hbar = m = \\omega = 1$ ."
   ]
  },
  {
   "cell_type": "code",
   "execution_count": 2,
   "metadata": {},
   "outputs": [],
   "source": [
    "# IN SI UNITS\n",
    "# const_hbar = 1.0545718 * 1e-34\n",
    "# const_omega = 1e+16\n",
    "# const_mass = 9.10938356 * 1e-31\n",
    "\n",
    "const_hbar = 1\n",
    "const_omega = 1\n",
    "const_mass = 1"
   ]
  },
  {
   "cell_type": "markdown",
   "metadata": {},
   "source": [
    "### Defining the Ladder Operators in the Harmonic Oscillator Basis"
   ]
  },
  {
   "cell_type": "markdown",
   "metadata": {},
   "source": [
    "__Note:__ n sets the size of the Hilbert Space spanned by the basis states $\\{|0\\rangle,|1\\rangle,...,|n-1\\rangle\\}$."
   ]
  },
  {
   "cell_type": "code",
   "execution_count": 3,
   "metadata": {},
   "outputs": [],
   "source": [
    "def op_a(n):\n",
    "    mat = np.zeros((n, n))\n",
    "    for i in range(n-1):\n",
    "        mat[i][i+1] = np.sqrt(i+1)\n",
    "    return mat\n",
    "\n",
    "def op_adag(n):\n",
    "    mat = np.zeros((n, n))\n",
    "    for i in range(n-1):\n",
    "        mat[i+1][i] = np.sqrt(i+1)\n",
    "    return mat\n",
    "\n",
    "def op_n(n):\n",
    "    a = op_a(n)\n",
    "    adag = op_adag(n)\n",
    "    mat = np.dot(adag,a)\n",
    "    return mat"
   ]
  },
  {
   "cell_type": "code",
   "execution_count": 4,
   "metadata": {},
   "outputs": [
    {
     "name": "stdout",
     "output_type": "stream",
     "text": [
      "[[ 1.  0.  0.  0.  0.]\n",
      " [ 0.  1.  0.  0.  0.]\n",
      " [ 0.  0.  1.  0.  0.]\n",
      " [ 0.  0.  0.  1.  0.]\n",
      " [ 0.  0.  0.  0. -4.]]\n",
      "[[0. 0. 0. 0. 0.]\n",
      " [0. 1. 0. 0. 0.]\n",
      " [0. 0. 2. 0. 0.]\n",
      " [0. 0. 0. 3. 0.]\n",
      " [0. 0. 0. 0. 4.]]\n"
     ]
    }
   ],
   "source": [
    "a = op_a(5)\n",
    "b = op_adag(5)\n",
    "print(np.dot(a,b)-np.dot(b,a)) #expect [a,adag] = 1\n",
    "print(op_n(5))"
   ]
  },
  {
   "cell_type": "markdown",
   "metadata": {},
   "source": [
    "__Note:__ The error in the last row is a result of the fact that the originally infinite Hilbert Space has been truncated."
   ]
  },
  {
   "cell_type": "markdown",
   "metadata": {},
   "source": [
    "### Defining the x,p in terms of Dagger Operators"
   ]
  },
  {
   "cell_type": "markdown",
   "metadata": {},
   "source": [
    "$$x = \\sqrt{\\frac{\\hbar}{2m\\omega}}(a+a^+)$$\n",
    "\n",
    "$$p = -i\\sqrt{\\frac{m\\omega\\hbar}{2}}(a-a^+)$$"
   ]
  },
  {
   "cell_type": "code",
   "execution_count": 5,
   "metadata": {},
   "outputs": [],
   "source": [
    "def op_x(n):\n",
    "    mat = np.sqrt(const_hbar/(2*const_mass*const_omega))*(op_a(n) + op_adag(n))\n",
    "    return mat\n",
    "\n",
    "def op_p(n):\n",
    "    mat = (-1j)*np.sqrt((const_hbar*const_mass*const_omega)/2)*(op_a(n) - op_adag(n))\n",
    "    return mat"
   ]
  },
  {
   "cell_type": "code",
   "execution_count": 6,
   "metadata": {},
   "outputs": [
    {
     "name": "stdout",
     "output_type": "stream",
     "text": [
      "[[ 1.  0.  0.  0.  0.]\n",
      " [ 0.  1.  0.  0.  0.]\n",
      " [ 0.  0.  1.  0.  0.]\n",
      " [ 0.  0.  0.  1.  0.]\n",
      " [ 0.  0.  0.  0. -4.]]\n"
     ]
    }
   ],
   "source": [
    "x = op_x(5)\n",
    "p = op_p(5)\n",
    "print(np.imag(np.dot(x,p)-np.dot(p,x))) # expect [x,p] = ihbar"
   ]
  },
  {
   "cell_type": "markdown",
   "metadata": {},
   "source": [
    "#### Test: Is $x^2$ the same from definition of x and dagger operators"
   ]
  },
  {
   "cell_type": "code",
   "execution_count": 7,
   "metadata": {},
   "outputs": [
    {
     "data": {
      "text/plain": [
       "array([[0.5       , 0.        , 0.70710678, 0.        , 0.        ],\n",
       "       [0.        , 1.5       , 0.        , 1.22474487, 0.        ],\n",
       "       [0.70710678, 0.        , 2.5       , 0.        , 1.73205081],\n",
       "       [0.        , 1.22474487, 0.        , 3.5       , 0.        ],\n",
       "       [0.        , 0.        , 1.73205081, 0.        , 2.        ]])"
      ]
     },
     "execution_count": 7,
     "metadata": {},
     "output_type": "execute_result"
    }
   ],
   "source": [
    "# FROM DAGGER OPERATORS\n",
    "a = op_a(5)\n",
    "adag = op_adag(5)\n",
    "# x2 = 0.5*((np.dot(a,a)+np.dot(adag,adag)+np.eye(5)+2*op_n(5))) # using aa^+ = 1 + n\n",
    "x2 = 0.5*((np.dot(a,a)+np.dot(adag,adag)+np.dot(adag,a)+np.dot(a,adag)))\n",
    "x2"
   ]
  },
  {
   "cell_type": "code",
   "execution_count": 8,
   "metadata": {},
   "outputs": [
    {
     "data": {
      "text/plain": [
       "array([[0.5       , 0.        , 0.70710678, 0.        , 0.        ],\n",
       "       [0.        , 1.5       , 0.        , 1.22474487, 0.        ],\n",
       "       [0.70710678, 0.        , 2.5       , 0.        , 1.73205081],\n",
       "       [0.        , 1.22474487, 0.        , 3.5       , 0.        ],\n",
       "       [0.        , 0.        , 1.73205081, 0.        , 2.        ]])"
      ]
     },
     "execution_count": 8,
     "metadata": {},
     "output_type": "execute_result"
    }
   ],
   "source": [
    "# FROM DEFINITION OF x\n",
    "x = op_x(5)\n",
    "x2_test = np.dot(x,x)\n",
    "x2_test"
   ]
  },
  {
   "cell_type": "markdown",
   "metadata": {},
   "source": [
    "__Result:__ Both are same, as expected. Life is good."
   ]
  },
  {
   "cell_type": "code",
   "execution_count": 9,
   "metadata": {},
   "outputs": [],
   "source": [
    "def op_x2(n):\n",
    "    x = op_x(n)\n",
    "    mat = np.dot(x,x)\n",
    "    return mat\n",
    "\n",
    "def op_p2(n):\n",
    "    p = op_p(n)\n",
    "    mat = np.dot(p,p)\n",
    "    return mat\n",
    "\n",
    "def op_x3(n):\n",
    "    x = op_x(n)\n",
    "    x2 = op_x2(n)\n",
    "    mat = np.dot(x,x2)\n",
    "    return mat\n",
    "\n",
    "def op_x4(n):\n",
    "    x2 = op_x2(n)\n",
    "    mat = np.dot(x2,x2)\n",
    "    return mat"
   ]
  },
  {
   "cell_type": "markdown",
   "metadata": {},
   "source": [
    "### Defining the Hamiltonians in terms of Dagger Operators"
   ]
  },
  {
   "cell_type": "markdown",
   "metadata": {},
   "source": [
    "$$H_i = \\frac{p^2}{2m} + \\frac{m\\omega^2 x^2}{2}$$\n",
    "\n",
    "$$H_f = \\frac{p^2}{2m} + \\frac{m\\omega^2(x-b)^2}{2} + \\lambda (x-b)^4 $$"
   ]
  },
  {
   "cell_type": "code",
   "execution_count": 10,
   "metadata": {},
   "outputs": [],
   "source": [
    "def op_Hi(n):\n",
    "    x2 = op_x2(n)\n",
    "    p2 = op_p2(n)\n",
    "    mat = 0.5*(const_mass*const_omega**2*x2 + p2/const_mass) \n",
    "    return mat\n",
    "    \n",
    "def op_Hf(n, b, lam):\n",
    "    b = b*np.eye(n)\n",
    "    x = op_x(n)\n",
    "    x2 = np.dot(x-b,x-b)\n",
    "    x4 = np.dot(x2,x2)\n",
    "    p2 = op_p2(n)\n",
    "    mat = 0.5*(const_mass*const_omega**2*x2 + p2/const_mass) + lam*x4\n",
    "    return mat "
   ]
  },
  {
   "cell_type": "code",
   "execution_count": 145,
   "metadata": {},
   "outputs": [
    {
     "data": {
      "image/png": "[encoded data removed]",
      "text/plain": [
       "<Figure size 432x288 with 1 Axes>"
      ]
     },
     "metadata": {
      "needs_background": "light"
     },
     "output_type": "display_data"
    }
   ],
   "source": [
    "lam = 0\n",
    "b_arr = [-5,5]\n",
    "x_arr = np.array(range(-20,21))\n",
    "\n",
    "y_arr = (x_arr)**2/2\n",
    "plt.plot(x_arr, y_arr, label = r'$\\lambda = 0$')\n",
    "\n",
    "for b in b_arr:\n",
    "    y_arr = (x_arr - b)**2/2 + lam*(x_arr - b)**4\n",
    "    plt.plot(x_arr, y_arr, '--', label = 'b =' + str(b))\n",
    "\n",
    "plt.grid(color='grey', linestyle='-', linewidth=0.1)\n",
    "plt.legend(title = 'For b = 0', loc = 'upper center')\n",
    "plt.title('Perturbed Harmonic Oscillator')\n",
    "plt.xlabel('x')\n",
    "plt.ylabel('V(x)')\n",
    "#plt.savefig(fname = \"pot_b.png\", dpi = 300)"
   ]
  },
  {
   "cell_type": "code",
   "execution_count": 72,
   "metadata": {},
   "outputs": [
    {
     "data": {
      "text/plain": [
       "array([-20, -19, -18, -17, -16, -15, -14, -13, -12, -11, -10,  -9,  -8,\n",
       "        -7,  -6,  -5,  -4,  -3,  -2,  -1,   0,   1,   2,   3,   4,   5,\n",
       "         6,   7,   8,   9])"
      ]
     },
     "execution_count": 72,
     "metadata": {},
     "output_type": "execute_result"
    }
   ],
   "source": [
    "x_arr = np.array(range(-15,15))\n",
    "x_arr - 5"
   ]
  },
  {
   "cell_type": "markdown",
   "metadata": {},
   "source": [
    "### Defining the n-th state of SHO"
   ]
  },
  {
   "cell_type": "code",
   "execution_count": 11,
   "metadata": {},
   "outputs": [],
   "source": [
    "def state_n(dim, n):\n",
    "    vec = np.zeros(dim)\n",
    "    vec[n] = 1\n",
    "    return vec"
   ]
  },
  {
   "cell_type": "markdown",
   "metadata": {},
   "source": [
    "_____________________\n",
    "\n",
    "## Quantum Adiabatic Evolution"
   ]
  },
  {
   "cell_type": "markdown",
   "metadata": {},
   "source": [
    "We want to evolve the system from the initial $H_i$ to the final $H_f$ using the Adiabatic Theorem such that:\n",
    "\n",
    "$$ H(t, T, \\lambda, b) = H_i \\Big(1 - \\frac{t}{T}\\Big) + H_f(\\lambda, b) \\frac{t}{T} $$\n",
    "\n",
    "where $t \\in [0,T]$.\n",
    "\n",
    "To do so, we will time evolve the ground state $|0\\rangle$ of the SHO using the time dependent Hamiltonian above. "
   ]
  },
  {
   "cell_type": "code",
   "execution_count": 24,
   "metadata": {},
   "outputs": [],
   "source": [
    "def run_QAC(dim, b, lam, T_i, T_f, num_T):\n",
    "\n",
    "    probs = []\n",
    "    num_steps = 100 # M\n",
    "    T_ar = np.linspace(T_i, T_f, num_T)\n",
    "    \n",
    "    psi_i = state_n(dim, 0)\n",
    "    e, v = np.linalg.eig(op_Hf(dim, b, lam))\n",
    "    psi_f = v[:, np.argmin(e)]\n",
    "\n",
    "    for T in T_ar:\n",
    "        # print('At T:', T)\n",
    "        U = np.eye(dim)\n",
    "        step = T/(num_steps + 1)\n",
    "\n",
    "        for m in range(num_steps + 1):\n",
    "            U_m = expm(-1j*((1-m/num_steps)*op_Hi(dim) + (m/num_steps)*op_Hf(dim, b, lam))*step) \n",
    "            U = np.matmul(U_m,U)\n",
    "\n",
    "        psi = np.dot(U,psi_i)\n",
    "        psi = psi/np.linalg.norm(psi)\n",
    "        prob = np.linalg.norm(np.dot(np.conjugate(psi),psi_f))**2.0\n",
    "        probs.append(prob)\n",
    "        \n",
    "    return T_ar, probs"
   ]
  },
  {
   "cell_type": "code",
   "execution_count": 39,
   "metadata": {},
   "outputs": [
    {
     "data": {
      "image/png": "[encoded data removed]",
      "text/plain": [
       "<Figure size 432x288 with 1 Axes>"
      ]
     },
     "metadata": {
      "needs_background": "light"
     },
     "output_type": "display_data"
    }
   ],
   "source": [
    "dim = 11\n",
    "b = 0\n",
    "lam = -5\n",
    "T_i = 0\n",
    "T_f = 20000\n",
    "num_T = 20\n",
    "\n",
    "T_ar, probs = run_QAC(dim, b, lam, T_i, T_f, num_T)\n",
    "    \n",
    "plt.plot(T_ar, probs)\n",
    "plt.show()"
   ]
  },
  {
   "cell_type": "code",
   "execution_count": 285,
   "metadata": {
    "scrolled": true
   },
   "outputs": [
    {
     "name": "stdout",
     "output_type": "stream",
     "text": [
      "Wall time: 1min 45s\n"
     ]
    },
    {
     "data": {
      "image/png": "[encoded data removed]",
      "text/plain": [
       "<Figure size 432x288 with 1 Axes>"
      ]
     },
     "metadata": {
      "needs_background": "light"
     },
     "output_type": "display_data"
    }
   ],
   "source": [
    "%%time\n",
    "\n",
    "dim = 10\n",
    "# b = 0\n",
    "lam = 5\n",
    "T_i = 0\n",
    "T_f = 100\n",
    "num_T = 100\n",
    "\n",
    "colors = ['b','y','c','k','m','g','r']\n",
    "\n",
    "sweep = list(np.linspace(-1, 100, 5))\n",
    "for i, value in enumerate([5, 2, 1, 0, -1, -2, -5]):\n",
    "    T_ar, probs = run_QAC(dim, value, lam, T_i, T_f, num_T)\n",
    "    if value >= 0:\n",
    "        plt.plot(T_ar, probs, label = 'b =' + str(round(value,1)), alpha = 1, color = colors[i])\n",
    "    if value < 0:\n",
    "        plt.plot(T_ar, probs, '--',label = 'b =' + str(round(value,1)), alpha = 1, color = colors[i])\n",
    "    # plt.plot(T_ar, probs, label = r'$\\lambda =$' + str(round(value,1)), alpha = 1)\n",
    "\n",
    "plt.xlabel('Evolution Time T')\n",
    "plt.ylabel('Probability of Required State')\n",
    "plt.title('Dependence on Strength of Perturbation')\n",
    "plt.legend(title = 'dim = 10')\n",
    "#plt.savefig(fname = \"b.png\", dpi = 300)"
   ]
  },
  {
   "cell_type": "markdown",
   "metadata": {},
   "source": [
    "### Checking the energy gap"
   ]
  },
  {
   "cell_type": "code",
   "execution_count": 65,
   "metadata": {},
   "outputs": [
    {
     "name": "stderr",
     "output_type": "stream",
     "text": [
      "C:\\Users\\User\\Anaconda3\\lib\\site-packages\\numpy\\core\\numeric.py:538: ComplexWarning: Casting complex values to real discards the imaginary part\n",
      "  return array(a, dtype, copy=False, order=order)\n"
     ]
    },
    {
     "data": {
      "image/png": "[encoded data removed]",
      "text/plain": [
       "<Figure size 432x288 with 1 Axes>"
      ]
     },
     "metadata": {
      "needs_background": "light"
     },
     "output_type": "display_data"
    }
   ],
   "source": [
    "dim = 11\n",
    "b = 0\n",
    "lam = 1\n",
    "T = 1\n",
    "num_steps = 100\n",
    "e0 = []\n",
    "e1 = []\n",
    "    \n",
    "time = np.linspace(0,T,num_steps)\n",
    "for t in time:\n",
    "    H_t = op_Hi(dim)*(1-t/T) + op_Hf(dim, b, lam)*(t/T)\n",
    "    eigval, eigvec  = np.linalg.eig(H_t)\n",
    "    eigval = np.sort(eigval)\n",
    "    e0.append(eigval[0])\n",
    "    e1.append(eigval[1])\n",
    "\n",
    "plt.plot(time, [0.5]*len(time), '--g', label = 'n = 0, ' + r'$\\lambda = 0$', alpha = 1)\n",
    "plt.plot(time, [1.5]*len(time), '--r', label = 'n = 1, ' + r'$\\lambda = 0$')\n",
    "plt.plot(time, e0, color = 'g', label = 'n = 0, ' + r'$\\lambda = -0.05,$')\n",
    "plt.plot(time, e1, color = 'r', label = 'n = 1, ' + r'$\\lambda = -0.05,$')\n",
    "plt.xlabel('Fraction of Evolution Time')\n",
    "plt.ylabel('Energy')\n",
    "plt.title('Energy Gap, ' + r'$\\lambda < 0$')\n",
    "plt.legend(title = 'dim = 10')\n",
    "#plt.xlim(0.9,1)\n",
    "#plt.ylim(0.2,0.4)\n",
    "#plt.yscale('log')\n",
    "#plt.savefig(fname = \"egap_neg_zoom_.png\", dpi = 300)\n",
    "plt.show()"
   ]
  },
  {
   "cell_type": "markdown",
   "metadata": {},
   "source": [
    "_____________________\n",
    "\n",
    "## QAOA"
   ]
  },
  {
   "cell_type": "markdown",
   "metadata": {},
   "source": [
    "### Defining the Ansatz\n",
    "\n",
    "$$ |\\psi_p \\rangle = \\prod_{k=1}^{p} e^{-i \\beta_k H_i} e^{- i \\gamma_k H_f} |\\psi_0 \\rangle$$"
   ]
  },
  {
   "cell_type": "code",
   "execution_count": 59,
   "metadata": {},
   "outputs": [],
   "source": [
    "def ansatz(dim, b, lam, params):\n",
    "    half = int(len(params)/2)\n",
    "    betas, gammas = params[:half], params[half:]\n",
    "    mat = np.array(np.eye(dim))\n",
    "    for i in range(len(betas)):\n",
    "        mat = np.matmul(expm(-1j*gammas[i]*op_Hf(dim, b, lam)), mat)\n",
    "        mat = np.matmul(expm(-1j*betas[i]*op_Hi(dim)), mat)\n",
    "    return mat"
   ]
  },
  {
   "cell_type": "code",
   "execution_count": 60,
   "metadata": {},
   "outputs": [],
   "source": [
    "def cost(params, flag = 0):\n",
    "    half = int(len(params)/2)\n",
    "    betas, gammas = params[:half], params[half:]\n",
    "    state = np.matmul(ansatz(dim, b, lam, params), psi_i)\n",
    "    if flag:\n",
    "        return np.linalg.norm(np.dot(np.conjugate(psi_f), state))**2.0\n",
    "    hamil_state = np.matmul(op_Hf(dim, b, lam), state)\n",
    "    expectation = np.dot(np.conjugate(state), hamil_state)\n",
    "    #print(expectation, np.linalg.norm(state), np.linalg.norm(hamil_state))\n",
    "    #print(expectation)\n",
    "    return np.linalg.norm(expectation)    "
   ]
  },
  {
   "cell_type": "code",
   "execution_count": 61,
   "metadata": {},
   "outputs": [],
   "source": [
    "def run_QAOA(p_max):\n",
    "    p_arr = list(range(1,p_max+1))\n",
    "    probs = []\n",
    "    for p in p_arr:\n",
    "        print('At p:',p)\n",
    "        params = [0.5] * 2 * p\n",
    "        x = minimize(cost, params)\n",
    "        probs.append(cost(x['x'], 1))\n",
    "    return p_arr, probs"
   ]
  },
  {
   "cell_type": "code",
   "execution_count": 66,
   "metadata": {},
   "outputs": [
    {
     "name": "stdout",
     "output_type": "stream",
     "text": [
      "At p: 1\n",
      "At p: 2\n",
      "At p: 3\n",
      "At p: 4\n",
      "At p: 5\n"
     ]
    },
    {
     "data": {
      "image/png": "[encoded data removed]",
      "text/plain": [
       "<Figure size 432x288 with 1 Axes>"
      ]
     },
     "metadata": {
      "needs_background": "light"
     },
     "output_type": "display_data"
    }
   ],
   "source": [
    "dim = 11\n",
    "b = 0\n",
    "lam = 1\n",
    "p_max = 5\n",
    "\n",
    "psi_i = state_n(dim, 0)\n",
    "e, v = np.linalg.eig(op_Hf(dim, b, lam))\n",
    "psi_f = v[:, np.argmin(e)]\n",
    "\n",
    "P_ar, probs = run_QAOA(p_max)\n",
    "    \n",
    "plt.plot(P_ar, probs)\n",
    "plt.show()"
   ]
  },
  {
   "cell_type": "code",
   "execution_count": 67,
   "metadata": {},
   "outputs": [
    {
     "name": "stdout",
     "output_type": "stream",
     "text": [
      "At p: 1\n",
      "At p: 2\n",
      "At p: 3\n",
      "At p: 4\n",
      "At p: 5\n",
      "At p: 1\n",
      "At p: 2\n",
      "At p: 3\n",
      "At p: 4\n",
      "At p: 5\n",
      "At p: 1\n",
      "At p: 2\n",
      "At p: 3\n",
      "At p: 4\n",
      "At p: 5\n",
      "At p: 1\n",
      "At p: 2\n",
      "At p: 3\n",
      "At p: 4\n",
      "At p: 5\n"
     ]
    },
    {
     "data": {
      "image/png": "[encoded data removed]",
      "text/plain": [
       "<Figure size 432x288 with 1 Axes>"
      ]
     },
     "metadata": {
      "needs_background": "light"
     },
     "output_type": "display_data"
    }
   ],
   "source": [
    "dim = 10\n",
    "b = 0\n",
    "lam = 0\n",
    "p_max = 5\n",
    "\n",
    "psi_i = state_n(dim, 0)\n",
    "\n",
    "for i, value in enumerate([1, 2, 5,10]):\n",
    "    \n",
    "    lam = value\n",
    "    e, v = np.linalg.eig(op_Hf(dim, b, lam))\n",
    "    psi_f = v[:, np.argmin(e)]\n",
    "    P_ar, probs = run_QAOA(p_max)\n",
    "    plt.plot(P_ar, probs, label = r'$\\lambda =$' + str(round(value,1)), alpha = 1)\n",
    "\n",
    "plt.xlabel('Evolution Time T')\n",
    "plt.ylabel('Probability of Required State')\n",
    "plt.title('Dependence on Strength of Perturbation')\n",
    "plt.legend(title = 'dim = 10')\n",
    "#plt.savefig(fname = \"qaoa_lam.png\", dpi = 300)"
   ]
  },
  {
   "cell_type": "markdown",
   "metadata": {},
   "source": [
    "### Other Failed Attempts"
   ]
  },
  {
   "cell_type": "code",
   "execution_count": 49,
   "metadata": {},
   "outputs": [
    {
     "data": {
      "image/png": "[encoded data removed]",
      "text/plain": [
       "<Figure size 432x288 with 1 Axes>"
      ]
     },
     "metadata": {
      "needs_background": "light"
     },
     "output_type": "display_data"
    },
    {
     "data": {
      "image/png": "[encoded data removed]",
      "text/plain": [
       "<Figure size 432x288 with 1 Axes>"
      ]
     },
     "metadata": {
      "needs_background": "light"
     },
     "output_type": "display_data"
    }
   ],
   "source": [
    "lam = 5\n",
    "b = 0\n",
    "dim = 25\n",
    "\n",
    "T_range = []\n",
    "prob = []\n",
    "\n",
    "psi_i = state_n(dim, 0)\n",
    "\n",
    "Hf = op_Hf(dim, b, lam)\n",
    "eigval, eigvec  = np.linalg.eig(Hf)\n",
    "psi_f = eigvec[:,np.argmin(eigval)]\n",
    "plt.plot(np.abs(psi_f))\n",
    "plt.show()\n",
    "\n",
    "T_ar = np.arange(0.1,15,1)\n",
    "for T in T_ar:\n",
    "    \n",
    "    time = np.linspace(0,T,1000)\n",
    "    step = T/1000\n",
    "    psi = psi_i + 1j*np.zeros(dim)\n",
    "    for t in time:\n",
    "        H_t = op_Hi(dim)*(1-t/T) + op_Hf(dim, b, lam)*(t/T)\n",
    "        del_psi = -1j*np.dot(H_t,psi)*step\n",
    "        psi += del_psi\n",
    "        # print(np.dot(np.conj(psi),psi))\n",
    "        psi = psi/np.linalg.norm(psi)\n",
    "            \n",
    "    overlap = np.dot(np.conjugate(psi_f),psi)\n",
    "\n",
    "    T_range.append(T)\n",
    "    prob.append(np.linalg.norm(overlap))\n",
    "    \n",
    "plt.plot(T_range, prob)\n",
    "#plt.yscale('log')\n",
    "#plt.ylim(-2, 2)\n",
    "plt.show()"
   ]
  },
  {
   "cell_type": "code",
   "execution_count": 43,
   "metadata": {},
   "outputs": [
    {
     "name": "stdout",
     "output_type": "stream",
     "text": [
      "psi_f [ 4.36610259e-06+0.j  1.87318835e-04+0.j  2.68652236e-03+0.j\n",
      "  2.15394561e-16+0.j  1.95788608e-02+0.j  1.61837645e-16-0.j\n",
      "  8.46894359e-02-0.j  2.20270476e-16+0.j  2.31871617e-01-0.j\n",
      "  3.12525347e-16-0.j -1.89448751e-16+0.j  4.05135895e-01-0.j\n",
      "  4.70293657e-16-0.j  4.22314478e-01+0.j -4.97309019e-05+0.j\n",
      " -2.10419584e-15+0.j  1.79800328e-01+0.j -3.24564030e-04+0.j\n",
      "  1.27392885e-01+0.j  8.55701503e-03-0.j  1.44226124e-15-0.j\n",
      " -3.52308215e-02+0.j  2.50700398e-01+0.j -3.40655426e-01+0.j\n",
      "  5.01523423e-01+0.j -1.31650494e-01+0.j -2.73372535e-01+0.j\n",
      "  1.54367941e-01-0.j  2.28318576e-16-0.j  1.42707695e-16+0.j\n",
      "  3.92831217e-17-0.j -1.32722645e-16+0.j  1.33049003e-17-0.j\n",
      " -1.85018824e-16+0.j  1.47299978e-16+0.j -3.71952373e-16+0.j\n",
      "  9.13799829e-16-0.j  9.81834031e-17-0.j  5.61959285e-16+0.j\n",
      " -2.35320779e-16+0.j]\n"
     ]
    }
   ],
   "source": [
    "# T = 10\n",
    "lam = 0.1\n",
    "b = 0\n",
    "time = np.arange(0,10,0.01)\n",
    "dim = 40\n",
    "\n",
    "T_range = []\n",
    "prob1 = []\n",
    "prob2 = []\n",
    "\n",
    "psi_i = state_n(dim, 0)\n",
    "H_t = 1j*np.zeros((dim,dim))\n",
    "\n",
    "Hf = op_Hf(dim, b, lam)\n",
    "eigval, eigvec  = np.linalg.eig(Hf)\n",
    "psi_f = eigvec[np.argmin(eigval)]\n",
    "print(\"psi_f\",psi_f)\n",
    "\n",
    "# T_ar = np.logspace(-50,-37,100)\n",
    "T_ar = np.arange(0,1000,1)\n",
    "for T in T_ar:\n",
    "    \n",
    "#     time = np.arange(0,T,0.0001)\n",
    "#     for t in time:\n",
    "#         H_t += (op_Hi(dim)*(1-t/T) + op_Hf(dim, b, lam)*(t/T))*0.1\n",
    "    #print(np.real(H_t))\n",
    "    \n",
    "#     time = np.arange(0,T,0.01)\n",
    "#     for t in time:\n",
    "#         mat = (op_Hi(dim)*(1-t/T) + op_Hf(dim, b, lam)*(t/T))*0.1\n",
    "#         if (t == 0):\n",
    "#             H_t = mat\n",
    "#         else:\n",
    "#             H_t = np.dot(mat,H_t)\n",
    "            \n",
    "        \n",
    "    #print(np.real(H_t))\n",
    "\n",
    "    H_t_2 = op_Hi(dim)*(T/2) + op_Hf(dim, b, lam)*(T/2)\n",
    "    #print(np.real(H_t_2))\n",
    "    \n",
    "    # psi_T1 = np.dot(expm(-1j*H_t),psi_i)\n",
    "    psi_T2 = np.dot(expm(-1j*const_hbar*H_t_2),psi_i)\n",
    "    #print(\"state time\",psi_T2)\n",
    "    #print(np.absolute(psi_T))\n",
    "    \n",
    "    # overlap1 = np.dot(psi_f,psi_T1)\n",
    "    #print(overlap1)\n",
    "    psi_T2 = psi_T2/np.linalg.norm(psi_T2)\n",
    "    overlap2 = np.dot(np.conjugate(psi_f),psi_T2)\n",
    "    \n",
    "    #print(\"overlap\",overlap2)\n",
    "    #print(np.dot(np.conj(psi_T2), psi_T2))\n",
    "    T_range.append(T)\n",
    "    #prob1.append(np.linalg.norm(psi_T1))\n",
    "    #prob2.append(np.linalg.norm(psi_T2))\n",
    "    #prob1.append(np.dot(np.conj(overlap1),overlap1))\n",
    "    prob2.append(np.linalg.norm(overlap2)**2)"
   ]
  },
  {
   "cell_type": "code",
   "execution_count": 44,
   "metadata": {},
   "outputs": [
    {
     "data": {
      "image/png": "[encoded data removed]",
      "text/plain": [
       "<Figure size 432x288 with 1 Axes>"
      ]
     },
     "metadata": {
      "needs_background": "light"
     },
     "output_type": "display_data"
    }
   ],
   "source": [
    "#plt.plot(T_range, prob1, color = 'b')\n",
    "plt.plot(T_range, prob2, color = 'g')\n",
    "#plt.xscale('log')\n",
    "plt.show()"
   ]
  },
  {
   "cell_type": "code",
   "execution_count": 36,
   "metadata": {},
   "outputs": [
    {
     "data": {
      "text/plain": [
       "array([48.44674207+0.j,  0.5072562 +0.j, 37.85987546+0.j,  2.5908458 +0.j,\n",
       "       47.52905502+0.j, 31.50675541+0.j,  4.77491312+0.j,  7.04832688+0.j,\n",
       "       27.67056   +0.j,  9.40269231+0.j,  1.53564828+0.j, 24.91850178+0.j,\n",
       "       11.83140079+0.j,  3.67109494+0.j, 36.89494242+0.j, 22.19510504+0.j,\n",
       "       14.32908402+0.j, 19.5141654 +0.j,  5.90102667+0.j, 16.89127572+0.j,\n",
       "       30.45004579+0.j,  8.21583781+0.j, 10.60811357+0.j, 26.42676103+0.j,\n",
       "       13.07191784+0.j, 23.55880521+0.j, 20.84873702+0.j, 18.19535846+0.j,\n",
       "       15.60236405+0.j, 16.97779189+0.j])"
      ]
     },
     "execution_count": 36,
     "metadata": {},
     "output_type": "execute_result"
    }
   ],
   "source": [
    "eigval, eigvec  = np.linalg.eig(Hf)\n",
    "eigval"
   ]
  },
  {
   "cell_type": "code",
   "execution_count": 109,
   "metadata": {},
   "outputs": [
    {
     "data": {
      "text/plain": [
       "array([1.+0.j, 0.+0.j, 0.+0.j, 0.+0.j, 0.+0.j])"
      ]
     },
     "execution_count": 109,
     "metadata": {},
     "output_type": "execute_result"
    }
   ],
   "source": [
    "state_n(5, 0) + 1j*np.zeros(5)"
   ]
  },
  {
   "cell_type": "code",
   "execution_count": null,
   "metadata": {},
   "outputs": [],
   "source": [
    "psi_i = [1,0,0,0,0]\n",
    "psi_T = np.dot(expm(-1j*H_t),psi_i)\n",
    "print(psi_T)\n",
    "print(np.absolute(psi_T))"
   ]
  },
  {
   "cell_type": "code",
   "execution_count": null,
   "metadata": {},
   "outputs": [],
   "source": [
    "mat = expm(-1j*H_t)\n",
    "np.dot(np.transpose(np.conj(mat)),mat) - np.eye(5)"
   ]
  },
  {
   "cell_type": "code",
   "execution_count": null,
   "metadata": {},
   "outputs": [],
   "source": [
    "np.absolute([3+4j])"
   ]
  },
  {
   "cell_type": "code",
   "execution_count": null,
   "metadata": {},
   "outputs": [],
   "source": [
    "np.linalg.norm([3+4j, 4j])"
   ]
  },
  {
   "cell_type": "code",
   "execution_count": null,
   "metadata": {},
   "outputs": [],
   "source": [
    "state_n(10,0)"
   ]
  },
  {
   "cell_type": "code",
   "execution_count": null,
   "metadata": {},
   "outputs": [],
   "source": [
    "dim = 10\n",
    "lam = 0.1\n",
    "psi_f = psi_i + lam*(-np.sqrt(2)/8)*(3*state_n(dim, 2) + np.sqrt(3)*state_n(dim, 4))\n",
    "np.dot(psi_f,psi_f)"
   ]
  },
  {
   "cell_type": "markdown",
   "metadata": {},
   "source": [
    "#### Sanity Checks"
   ]
  },
  {
   "cell_type": "code",
   "execution_count": null,
   "metadata": {},
   "outputs": [],
   "source": [
    "x = op_x(5)\n",
    "vec = np.asarray([1,0,0,0,0])\n",
    "np.dot(vec,np.dot(x,vec))"
   ]
  },
  {
   "cell_type": "code",
   "execution_count": null,
   "metadata": {},
   "outputs": [],
   "source": [
    "x = op_x(5)\n",
    "vec = np.asarray([0,0.6,0.8,0,0])\n",
    "np.dot(vec,np.dot(x,vec))"
   ]
  },
  {
   "cell_type": "code",
   "execution_count": null,
   "metadata": {},
   "outputs": [],
   "source": [
    "x = op_x(5) \n",
    "vec1 = np.asarray([0,1,0,0,0])\n",
    "vec2 = np.asarray([0,0,1,0,0])\n",
    "(0.6)*(0.8)*(np.dot(vec1,np.dot(x,vec2)) + np.dot(vec2,np.dot(x,vec1)))"
   ]
  },
  {
   "cell_type": "code",
   "execution_count": null,
   "metadata": {},
   "outputs": [],
   "source": [
    "x = op_x(5) - 3*np.eye(5) # subtracting 3*I\n",
    "vec = np.asarray([1,0,0,0,0])\n",
    "np.dot(vec,np.dot(x,vec))"
   ]
  },
  {
   "cell_type": "code",
   "execution_count": null,
   "metadata": {},
   "outputs": [],
   "source": [
    "x = op_x(5) - 3 # element wise subtraction\n",
    "vec = np.asarray([1,0,0,0,0])\n",
    "np.dot(vec,np.dot(x,vec))"
   ]
  },
  {
   "cell_type": "code",
   "execution_count": null,
   "metadata": {},
   "outputs": [],
   "source": [
    "x = op_x(5) - 3*np.eye(5) # subtracting 3*I\n",
    "vec = np.asarray([0,0.6,0.8,0,0])\n",
    "np.dot(vec,np.dot(x,vec))"
   ]
  },
  {
   "cell_type": "code",
   "execution_count": null,
   "metadata": {},
   "outputs": [],
   "source": [
    "x = op_x(5) - 3 # element wise subtraction\n",
    "vec = np.asarray([0,0.6,0.8,0,0])\n",
    "np.dot(vec,np.dot(x,vec))"
   ]
  },
  {
   "cell_type": "code",
   "execution_count": null,
   "metadata": {},
   "outputs": [],
   "source": []
  }
 ],
 "metadata": {
  "kernelspec": {
   "display_name": "Python 3",
   "language": "python",
   "name": "python3"
  },
  "language_info": {
   "codemirror_mode": {
    "name": "ipython",
    "version": 3
   },
   "file_extension": ".py",
   "mimetype": "text/x-python",
   "name": "python",
   "nbconvert_exporter": "python",
   "pygments_lexer": "ipython3",
   "version": "3.7.3"
  }
 },
 "nbformat": 4,
 "nbformat_minor": 2
}
