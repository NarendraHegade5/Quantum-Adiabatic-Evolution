{
 "cells": [
  {
   "cell_type": "markdown",
   "metadata": {},
   "source": [
    "# Physics 231: Final Project\n",
    "## Adiabatic Evolution of the Anharmonic Oscillator"
   ]
  },
  {
   "cell_type": "code",
   "execution_count": 1,
   "metadata": {},
   "outputs": [],
   "source": [
    "import numpy as np\n",
    "from scipy.linalg import expm\n",
    "import matplotlib.pyplot as plt"
   ]
  },
  {
   "cell_type": "markdown",
   "metadata": {},
   "source": [
    "### Defining the Ladder Operators in the Harmonic Oscillator Basis"
   ]
  },
  {
   "cell_type": "markdown",
   "metadata": {},
   "source": [
    "__Note:__ n sets the size of the Hilbert Space spanned by the basis states $\\{|0\\rangle,|1\\rangle,...,|n-1\\rangle\\}$."
   ]
  },
  {
   "cell_type": "code",
   "execution_count": 2,
   "metadata": {},
   "outputs": [],
   "source": [
    "def op_a(n):\n",
    "    mat = np.zeros((n, n))\n",
    "    for i in range(n-1):\n",
    "        mat[i][i+1] = np.sqrt(i+1)\n",
    "    return mat\n",
    "\n",
    "def op_adag(n):\n",
    "    mat = np.zeros((n, n))\n",
    "    for i in range(n-1):\n",
    "        mat[i+1][i] = np.sqrt(i+1)\n",
    "    return mat\n",
    "\n",
    "def op_n(n):\n",
    "    a = op_a(n)\n",
    "    adag = op_adag(n)\n",
    "    mat = np.dot(adag,a)\n",
    "    return mat"
   ]
  },
  {
   "cell_type": "code",
   "execution_count": 3,
   "metadata": {},
   "outputs": [
    {
     "name": "stdout",
     "output_type": "stream",
     "text": [
      "[[ 1.  0.  0.  0.  0.]\n",
      " [ 0.  1.  0.  0.  0.]\n",
      " [ 0.  0.  1.  0.  0.]\n",
      " [ 0.  0.  0.  1.  0.]\n",
      " [ 0.  0.  0.  0. -4.]]\n",
      "[[0. 0. 0. 0. 0.]\n",
      " [0. 1. 0. 0. 0.]\n",
      " [0. 0. 2. 0. 0.]\n",
      " [0. 0. 0. 3. 0.]\n",
      " [0. 0. 0. 0. 4.]]\n"
     ]
    }
   ],
   "source": [
    "a = op_a(5)\n",
    "b = op_adag(5)\n",
    "print(np.dot(a,b)-np.dot(b,a)) #expect [a,adag] = 1\n",
    "print(op_n(5))"
   ]
  },
  {
   "cell_type": "markdown",
   "metadata": {},
   "source": [
    "__Note:__ The error in the last row is a result of the fact that the originally infinite Hilbert Space has been truncated."
   ]
  },
  {
   "cell_type": "markdown",
   "metadata": {},
   "source": [
    "### Defining the x,p in terms of Dagger Operators"
   ]
  },
  {
   "cell_type": "markdown",
   "metadata": {},
   "source": [
    "$$x = \\sqrt{\\frac{\\hbar}{2m\\omega}}(a+a^+)$$\n",
    "\n",
    "$$p = -i\\sqrt{\\frac{m\\omega\\hbar}{2}}(a-a^+)$$"
   ]
  },
  {
   "cell_type": "markdown",
   "metadata": {},
   "source": [
    "#### We will be setting $\\hbar = m = \\omega = 1$"
   ]
  },
  {
   "cell_type": "code",
   "execution_count": 4,
   "metadata": {},
   "outputs": [],
   "source": [
    "def op_x(n):\n",
    "    mat = np.sqrt(1/2)*(op_a(n) + op_adag(n))\n",
    "    return mat\n",
    "\n",
    "def op_p(n):\n",
    "    mat = (-1j)*np.sqrt(1/2)*(op_a(n) - op_adag(n))\n",
    "    return mat"
   ]
  },
  {
   "cell_type": "code",
   "execution_count": 5,
   "metadata": {},
   "outputs": [
    {
     "name": "stdout",
     "output_type": "stream",
     "text": [
      "[[ 1.  0.  0.  0.  0.]\n",
      " [ 0.  1.  0.  0.  0.]\n",
      " [ 0.  0.  1.  0.  0.]\n",
      " [ 0.  0.  0.  1.  0.]\n",
      " [ 0.  0.  0.  0. -4.]]\n"
     ]
    }
   ],
   "source": [
    "x = op_x(5)\n",
    "p = op_p(5)\n",
    "print(np.imag(np.dot(x,p)-np.dot(p,x))) # expect [x,p] = ihbar"
   ]
  },
  {
   "cell_type": "markdown",
   "metadata": {},
   "source": [
    "#### Test: Is $x^2$ the same from definition of x and dagger operators"
   ]
  },
  {
   "cell_type": "code",
   "execution_count": 6,
   "metadata": {},
   "outputs": [
    {
     "data": {
      "text/plain": [
       "array([[0.5       , 0.        , 0.70710678, 0.        , 0.        ],\n",
       "       [0.        , 1.5       , 0.        , 1.22474487, 0.        ],\n",
       "       [0.70710678, 0.        , 2.5       , 0.        , 1.73205081],\n",
       "       [0.        , 1.22474487, 0.        , 3.5       , 0.        ],\n",
       "       [0.        , 0.        , 1.73205081, 0.        , 2.        ]])"
      ]
     },
     "execution_count": 6,
     "metadata": {},
     "output_type": "execute_result"
    }
   ],
   "source": [
    "# FROM DAGGER OPERATORS\n",
    "a = op_a(5)\n",
    "adag = op_adag(5)\n",
    "# x2 = 0.5*((np.dot(a,a)+np.dot(adag,adag)+np.eye(5)+2*op_n(5))) # using aa^+ = 1 + n\n",
    "x2 = 0.5*((np.dot(a,a)+np.dot(adag,adag)+np.dot(adag,a)+np.dot(a,adag)))\n",
    "x2"
   ]
  },
  {
   "cell_type": "code",
   "execution_count": 7,
   "metadata": {},
   "outputs": [
    {
     "data": {
      "text/plain": [
       "array([[0.5       , 0.        , 0.70710678, 0.        , 0.        ],\n",
       "       [0.        , 1.5       , 0.        , 1.22474487, 0.        ],\n",
       "       [0.70710678, 0.        , 2.5       , 0.        , 1.73205081],\n",
       "       [0.        , 1.22474487, 0.        , 3.5       , 0.        ],\n",
       "       [0.        , 0.        , 1.73205081, 0.        , 2.        ]])"
      ]
     },
     "execution_count": 7,
     "metadata": {},
     "output_type": "execute_result"
    }
   ],
   "source": [
    "# FROM DEFINITION OF x\n",
    "x = op_x(5)\n",
    "x2_test = np.dot(x,x)\n",
    "x2_test"
   ]
  },
  {
   "cell_type": "markdown",
   "metadata": {},
   "source": [
    "__Result:__ Both are same, as expected. Life is good."
   ]
  },
  {
   "cell_type": "code",
   "execution_count": 8,
   "metadata": {},
   "outputs": [],
   "source": [
    "def op_x2(n):\n",
    "    x = op_x(n)\n",
    "    mat = np.dot(x,x)\n",
    "    return mat\n",
    "\n",
    "def op_p2(n):\n",
    "    p = op_p(n)\n",
    "    mat = np.dot(p,p)\n",
    "    return mat\n",
    "\n",
    "def op_x3(n):\n",
    "    x = op_x(n)\n",
    "    x2 = op_x2(n)\n",
    "    mat = np.dot(x,x2)\n",
    "    return mat\n",
    "\n",
    "def op_x4(n):\n",
    "    x2 = op_x2(n)\n",
    "    mat = np.dot(x2,x2)\n",
    "    return mat"
   ]
  },
  {
   "cell_type": "markdown",
   "metadata": {},
   "source": [
    "### Defining the Hamiltonians in terms of Dagger Operators"
   ]
  },
  {
   "cell_type": "markdown",
   "metadata": {},
   "source": [
    "$$H_i = \\frac{p^2}{2} + \\frac{x^2}{2}$$\n",
    "\n",
    "$$H_f = \\frac{p^2}{2} + \\frac{(x-b)^2}{2} + \\lambda(x-b)^4 $$"
   ]
  },
  {
   "cell_type": "code",
   "execution_count": 37,
   "metadata": {},
   "outputs": [],
   "source": [
    "def op_Hi(n):\n",
    "    x2 = op_x2(n)\n",
    "    p2 = op_p2(n)\n",
    "    mat = 0.5*(x2 + p2) \n",
    "    return mat\n",
    "    \n",
    "def op_Hf(n, b, lam): # complete the definition with b\n",
    "    b = b*np.eye(n)\n",
    "    x = op_x(n)\n",
    "    x2 = np.dot(x-b,x-b)\n",
    "    x4 = np.dot(x2,x2)\n",
    "    p2 = op_p2(n)\n",
    "    mat = 0.5*(x2 + p2) + lam*x4\n",
    "    return mat "
   ]
  },
  {
   "cell_type": "markdown",
   "metadata": {},
   "source": [
    "### Quantum Adiabatic Evolution"
   ]
  },
  {
   "cell_type": "markdown",
   "metadata": {},
   "source": [
    "We want to evolve the system from the initial $H_i$ to the final $H_f$ using the Adiabatic Theorem such that:\n",
    "\n",
    "$$ H(t, T, \\lambda, b) = H_i \\Big(1 - \\frac{t}{T}\\Big) + H_f(\\lambda, b) \\frac{t}{T} $$\n",
    "\n",
    "where $t \\in [0,T]$.\n",
    "\n",
    "To do so, we will time evolve the ground state $|0\\rangle$ of the SHO using the time dependent Hamiltonian above. "
   ]
  },
  {
   "cell_type": "code",
   "execution_count": 33,
   "metadata": {},
   "outputs": [],
   "source": [
    "def state_n(dim, n):\n",
    "    vec = np.zeros(dim)\n",
    "    vec[n] = 1\n",
    "    return vec"
   ]
  },
  {
   "cell_type": "code",
   "execution_count": 41,
   "metadata": {},
   "outputs": [],
   "source": [
    "# T = 10\n",
    "lam = 1\n",
    "b = 0\n",
    "H_t = 1j*np.zeros((10,10))\n",
    "time = np.arange(0,10,0.01)\n",
    "dim = 10\n",
    "\n",
    "T_range = []\n",
    "prob1 = []\n",
    "prob2 = []\n",
    "\n",
    "psi_i = state_n(dim, 0)\n",
    "psi_f = psi_i + lam*(-np.sqrt(2)/8)*(3*state_n(dim, 2) + np.sqrt(3)*state_n(dim, 4))\n",
    "\n",
    "for T in range(1,100):\n",
    "    time = np.arange(0,T,0.1)\n",
    "    for t in time:\n",
    "        H_t += (op_Hi(dim)*(1-t/T) + op_Hf(dim, b, lam)*(t/T))*0.1\n",
    "    #print(np.real(H_t))\n",
    "\n",
    "    H_t_2 = op_Hi(dim)*(T/2) + op_Hf(dim, b, lam)*(T/2)\n",
    "    #print(np.real(H_t_2))\n",
    "    \n",
    "    psi_T1 = np.dot(expm(-1j*H_t),psi_i)\n",
    "    psi_T2 = np.dot(expm(-1j*H_t_2),psi_i)\n",
    "    #print(psi_T)\n",
    "    #print(np.absolute(psi_T))\n",
    "    \n",
    "    overlap1 = np.dot(psi_f,psi_T1)\n",
    "    overlap2 = np.dot(psi_f,psi_T2)\n",
    "    \n",
    "    T_range.append(T)\n",
    "    #prob1.append(np.linalg.norm(psi_T1))\n",
    "    #prob2.append(np.linalg.norm(psi_T2))\n",
    "    prob1.append(np.dot(np.conj(overlap1),overlap2))\n",
    "    prob2.append(np.dot(np.conj(overlap2),overlap2))"
   ]
  },
  {
   "cell_type": "code",
   "execution_count": 43,
   "metadata": {},
   "outputs": [
    {
     "data": {
      "image/png": "[encoded data removed]",
      "text/plain": [
       "<Figure size 432x288 with 1 Axes>"
      ]
     },
     "metadata": {
      "needs_background": "light"
     },
     "output_type": "display_data"
    }
   ],
   "source": [
    "#plt.plot(T_range, prob1, color = 'b')\n",
    "plt.plot(T_range, prob2, color = 'g')\n",
    "plt.show()"
   ]
  },
  {
   "cell_type": "code",
   "execution_count": null,
   "metadata": {},
   "outputs": [],
   "source": [
    "psi_i = [1,0,0,0,0]\n",
    "psi_T = np.dot(expm(-1j*H_t),psi_i)\n",
    "print(psi_T)\n",
    "print(np.absolute(psi_T))"
   ]
  },
  {
   "cell_type": "code",
   "execution_count": 14,
   "metadata": {},
   "outputs": [
    {
     "data": {
      "text/plain": [
       "array([[ 6.66133815e-16+0.00000000e+00j,  0.00000000e+00+0.00000000e+00j,\n",
       "        -1.04083409e-16+0.00000000e+00j,  0.00000000e+00+0.00000000e+00j,\n",
       "        -2.01227923e-16+4.16333634e-17j],\n",
       "       [ 0.00000000e+00+0.00000000e+00j,  0.00000000e+00+0.00000000e+00j,\n",
       "         0.00000000e+00+0.00000000e+00j,  7.63278329e-16+8.32667268e-17j,\n",
       "         0.00000000e+00+0.00000000e+00j],\n",
       "       [-1.04083409e-16+0.00000000e+00j,  0.00000000e+00+0.00000000e+00j,\n",
       "        -7.77156117e-16+0.00000000e+00j,  0.00000000e+00+0.00000000e+00j,\n",
       "        -5.55111512e-17+2.22044605e-16j],\n",
       "       [ 0.00000000e+00+0.00000000e+00j,  7.63278329e-16-8.32667268e-17j,\n",
       "         0.00000000e+00+0.00000000e+00j,  1.99840144e-15+0.00000000e+00j,\n",
       "         0.00000000e+00+0.00000000e+00j],\n",
       "       [-2.01227923e-16-4.16333634e-17j,  0.00000000e+00+0.00000000e+00j,\n",
       "        -5.55111512e-17-2.22044605e-16j,  0.00000000e+00+0.00000000e+00j,\n",
       "        -4.44089210e-16+0.00000000e+00j]])"
      ]
     },
     "execution_count": 14,
     "metadata": {},
     "output_type": "execute_result"
    }
   ],
   "source": [
    "mat = expm(-1j*H_t)\n",
    "np.dot(np.transpose(np.conj(mat)),mat) - np.eye(5)"
   ]
  },
  {
   "cell_type": "code",
   "execution_count": 16,
   "metadata": {},
   "outputs": [
    {
     "data": {
      "text/plain": [
       "array([5.])"
      ]
     },
     "execution_count": 16,
     "metadata": {},
     "output_type": "execute_result"
    }
   ],
   "source": [
    "np.absolute([3+4j])"
   ]
  },
  {
   "cell_type": "code",
   "execution_count": 21,
   "metadata": {},
   "outputs": [
    {
     "data": {
      "text/plain": [
       "6.4031242374328485"
      ]
     },
     "execution_count": 21,
     "metadata": {},
     "output_type": "execute_result"
    }
   ],
   "source": [
    "np.linalg.norm([3+4j, 4j])"
   ]
  },
  {
   "cell_type": "code",
   "execution_count": 34,
   "metadata": {},
   "outputs": [
    {
     "data": {
      "text/plain": [
       "array([1., 0., 0., 0., 0., 0., 0., 0., 0., 0.])"
      ]
     },
     "execution_count": 34,
     "metadata": {},
     "output_type": "execute_result"
    }
   ],
   "source": [
    "state_n(10,0)"
   ]
  },
  {
   "cell_type": "code",
   "execution_count": null,
   "metadata": {},
   "outputs": [],
   "source": []
  },
  {
   "cell_type": "markdown",
   "metadata": {},
   "source": [
    "#### Sanity Checks"
   ]
  },
  {
   "cell_type": "code",
   "execution_count": 13,
   "metadata": {},
   "outputs": [
    {
     "data": {
      "text/plain": [
       "0.0"
      ]
     },
     "execution_count": 13,
     "metadata": {},
     "output_type": "execute_result"
    }
   ],
   "source": [
    "x = op_x(5)\n",
    "vec = np.asarray([1,0,0,0,0])\n",
    "np.dot(vec,np.dot(x,vec))"
   ]
  },
  {
   "cell_type": "code",
   "execution_count": 14,
   "metadata": {},
   "outputs": [
    {
     "data": {
      "text/plain": [
       "0.9600000000000002"
      ]
     },
     "execution_count": 14,
     "metadata": {},
     "output_type": "execute_result"
    }
   ],
   "source": [
    "x = op_x(5)\n",
    "vec = np.asarray([0,0.6,0.8,0,0])\n",
    "np.dot(vec,np.dot(x,vec))"
   ]
  },
  {
   "cell_type": "code",
   "execution_count": 15,
   "metadata": {},
   "outputs": [
    {
     "data": {
      "text/plain": [
       "0.9600000000000002"
      ]
     },
     "execution_count": 15,
     "metadata": {},
     "output_type": "execute_result"
    }
   ],
   "source": [
    "x = op_x(5) \n",
    "vec1 = np.asarray([0,1,0,0,0])\n",
    "vec2 = np.asarray([0,0,1,0,0])\n",
    "(0.6)*(0.8)*(np.dot(vec1,np.dot(x,vec2)) + np.dot(vec2,np.dot(x,vec1)))"
   ]
  },
  {
   "cell_type": "code",
   "execution_count": 26,
   "metadata": {},
   "outputs": [
    {
     "data": {
      "text/plain": [
       "-3.0"
      ]
     },
     "execution_count": 26,
     "metadata": {},
     "output_type": "execute_result"
    }
   ],
   "source": [
    "x = op_x(5) - 3*np.eye(5) # subtracting 3*I\n",
    "vec = np.asarray([1,0,0,0,0])\n",
    "np.dot(vec,np.dot(x,vec))"
   ]
  },
  {
   "cell_type": "code",
   "execution_count": 17,
   "metadata": {},
   "outputs": [
    {
     "data": {
      "text/plain": [
       "-3.0"
      ]
     },
     "execution_count": 17,
     "metadata": {},
     "output_type": "execute_result"
    }
   ],
   "source": [
    "x = op_x(5) - 3 # element wise subtraction\n",
    "vec = np.asarray([1,0,0,0,0])\n",
    "np.dot(vec,np.dot(x,vec))"
   ]
  },
  {
   "cell_type": "code",
   "execution_count": 18,
   "metadata": {},
   "outputs": [
    {
     "data": {
      "text/plain": [
       "-2.04"
      ]
     },
     "execution_count": 18,
     "metadata": {},
     "output_type": "execute_result"
    }
   ],
   "source": [
    "x = op_x(5) - 3*np.eye(5) # subtracting 3*I\n",
    "vec = np.asarray([0,0.6,0.8,0,0])\n",
    "np.dot(vec,np.dot(x,vec))"
   ]
  },
  {
   "cell_type": "code",
   "execution_count": 19,
   "metadata": {},
   "outputs": [
    {
     "data": {
      "text/plain": [
       "-4.92"
      ]
     },
     "execution_count": 19,
     "metadata": {},
     "output_type": "execute_result"
    }
   ],
   "source": [
    "x = op_x(5) - 3 # element wise subtraction\n",
    "vec = np.asarray([0,0.6,0.8,0,0])\n",
    "np.dot(vec,np.dot(x,vec))"
   ]
  },
  {
   "cell_type": "code",
   "execution_count": null,
   "metadata": {},
   "outputs": [],
   "source": []
  }
 ],
 "metadata": {
  "kernelspec": {
   "display_name": "Python 3",
   "language": "python",
   "name": "python3"
  },
  "language_info": {
   "codemirror_mode": {
    "name": "ipython",
    "version": 3
   },
   "file_extension": ".py",
   "mimetype": "text/x-python",
   "name": "python",
   "nbconvert_exporter": "python",
   "pygments_lexer": "ipython3",
   "version": "3.7.3"
  }
 },
 "nbformat": 4,
 "nbformat_minor": 2
}
